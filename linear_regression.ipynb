{
  "nbformat": 4,
  "nbformat_minor": 0,
  "metadata": {
    "colab": {
      "name": "linear regression.ipynb",
      "provenance": [],
      "authorship_tag": "ABX9TyOwXQev+O+53ABBe7zALHOS",
      "include_colab_link": true
    },
    "kernelspec": {
      "name": "python3",
      "display_name": "Python 3"
    }
  },
  "cells": [
    {
      "cell_type": "markdown",
      "metadata": {
        "id": "view-in-github",
        "colab_type": "text"
      },
      "source": [
        "<a href=\"https://colab.research.google.com/github/mozhgans/Machine-Learning-Algorithms/blob/main/linear_regression.ipynb\" target=\"_parent\"><img src=\"https://colab.research.google.com/assets/colab-badge.svg\" alt=\"Open In Colab\"/></a>"
      ]
    },
    {
      "cell_type": "code",
      "metadata": {
        "id": "_qTM0NQVHDru"
      },
      "source": [
        "import numpy as np\r\n",
        "import pandas as pd\r\n",
        "import matplotlib.pyplot as plt"
      ],
      "execution_count": 1,
      "outputs": []
    },
    {
      "cell_type": "code",
      "metadata": {
        "colab": {
          "base_uri": "https://localhost:8080/",
          "height": 204
        },
        "id": "iz5uDoZYHIcE",
        "outputId": "5edb323c-fbb2-4e02-9ca3-26e181fd4a15"
      },
      "source": [
        "df=pd.read_csv('/content/test.csv')\r\n",
        "df.head()"
      ],
      "execution_count": 2,
      "outputs": [
        {
          "output_type": "execute_result",
          "data": {
            "text/html": [
              "<div>\n",
              "<style scoped>\n",
              "    .dataframe tbody tr th:only-of-type {\n",
              "        vertical-align: middle;\n",
              "    }\n",
              "\n",
              "    .dataframe tbody tr th {\n",
              "        vertical-align: top;\n",
              "    }\n",
              "\n",
              "    .dataframe thead th {\n",
              "        text-align: right;\n",
              "    }\n",
              "</style>\n",
              "<table border=\"1\" class=\"dataframe\">\n",
              "  <thead>\n",
              "    <tr style=\"text-align: right;\">\n",
              "      <th></th>\n",
              "      <th>x</th>\n",
              "      <th>y</th>\n",
              "    </tr>\n",
              "  </thead>\n",
              "  <tbody>\n",
              "    <tr>\n",
              "      <th>0</th>\n",
              "      <td>77</td>\n",
              "      <td>79.775152</td>\n",
              "    </tr>\n",
              "    <tr>\n",
              "      <th>1</th>\n",
              "      <td>21</td>\n",
              "      <td>23.177279</td>\n",
              "    </tr>\n",
              "    <tr>\n",
              "      <th>2</th>\n",
              "      <td>22</td>\n",
              "      <td>25.609262</td>\n",
              "    </tr>\n",
              "    <tr>\n",
              "      <th>3</th>\n",
              "      <td>20</td>\n",
              "      <td>17.857388</td>\n",
              "    </tr>\n",
              "    <tr>\n",
              "      <th>4</th>\n",
              "      <td>36</td>\n",
              "      <td>41.849864</td>\n",
              "    </tr>\n",
              "  </tbody>\n",
              "</table>\n",
              "</div>"
            ],
            "text/plain": [
              "    x          y\n",
              "0  77  79.775152\n",
              "1  21  23.177279\n",
              "2  22  25.609262\n",
              "3  20  17.857388\n",
              "4  36  41.849864"
            ]
          },
          "metadata": {
            "tags": []
          },
          "execution_count": 2
        }
      ]
    },
    {
      "cell_type": "code",
      "metadata": {
        "colab": {
          "base_uri": "https://localhost:8080/"
        },
        "id": "GUgqETSuHVPw",
        "outputId": "d1b588cf-1c75-47c8-c427-3c3c3bbe8b61"
      },
      "source": [
        "df.shape"
      ],
      "execution_count": 3,
      "outputs": [
        {
          "output_type": "execute_result",
          "data": {
            "text/plain": [
              "(300, 2)"
            ]
          },
          "metadata": {
            "tags": []
          },
          "execution_count": 3
        }
      ]
    },
    {
      "cell_type": "code",
      "metadata": {
        "id": "h-ee8gBwHVRN"
      },
      "source": [
        "X=df['x'].values\r\n",
        "Y=df['y'].values\r\n",
        "n=len(X)\r\n",
        "mean_x=np.mean(X)\r\n",
        "mean_y=np.mean(Y)"
      ],
      "execution_count": 4,
      "outputs": []
    },
    {
      "cell_type": "code",
      "metadata": {
        "colab": {
          "base_uri": "https://localhost:8080/"
        },
        "id": "QW0i9O0jHVVJ",
        "outputId": "2f1698e0-5275-4dd7-bcc9-c86a8d65f18b"
      },
      "source": [
        "number=0\r\n",
        "denom=0\r\n",
        "for i in range(n):\r\n",
        "    number=number+(X[i]-mean_x)*(Y[i]-mean_y)\r\n",
        "    denom=denom+(X[i]-mean_x)**2\r\n",
        "    m=number/denom\r\n",
        "    c=mean_y-(m*mean_x)\r\n",
        "print(m,c)"
      ],
      "execution_count": 5,
      "outputs": [
        {
          "output_type": "stream",
          "text": [
            "1.0143353551195182 -0.46181077366119894\n"
          ],
          "name": "stdout"
        }
      ]
    },
    {
      "cell_type": "code",
      "metadata": {
        "colab": {
          "base_uri": "https://localhost:8080/"
        },
        "id": "Dc2LRrA2Hfl-",
        "outputId": "68345d9f-9ba7-49ff-a040-2864f4ce0af0"
      },
      "source": [
        "y_pred=m*X+c\r\n",
        "print(y_pred)"
      ],
      "execution_count": 6,
      "outputs": [
        {
          "output_type": "stream",
          "text": [
            "[ 77.64201157  20.83923168  21.85356704  19.82489633  36.05426201\n",
            "  14.75321955  62.42698124  95.90004796  19.82489633   4.609866\n",
            "   3.59553065  18.81056097  96.91438332  62.42698124  36.05426201\n",
            "  14.75321955  65.46998731  13.7388842   87.78536512  69.52732873\n",
            "  89.81403583  51.26929234  89.81403583  26.92524381  97.92871867\n",
            "  58.36963982  79.67068228  20.83923168  93.87137725  26.92524381\n",
            "  99.95738938  30.98258524  33.01125595  80.68501764  27.93957917\n",
            "  47.21195092  53.29796305  69.52732873  27.93957917  33.01125595\n",
            "  91.84270654  71.55599944  50.25495698  76.62767622   3.59553065\n",
            "  37.06859737  70.54166408  68.51299337  40.11160343  35.03992666\n",
            "  94.88571261  88.79970048  52.28362769  30.98258524  59.38397518\n",
            "  -0.46181077  39.09726808  64.45565195  69.52732873  57.35530447\n",
            "  12.72454884  72.57033479  76.62767622  61.41264589  82.71368835\n",
            "  17.79622562  41.12593879  50.25495698  55.32663376  12.72454884\n",
            "  46.19761556  12.72454884  79.67068228  53.29796305  14.75321955\n",
            "  27.93957917  81.69935299  69.52732873  52.28362769  84.74235906\n",
            "  68.51299337  26.92524381  56.34096911  48.22628627  40.11160343\n",
            "  39.09726808  82.71368835 100.97172474  59.38397518  43.1546095\n",
            "  67.49865802  38.08293272  63.4413166   91.84270654  60.39831053\n",
            "  13.7388842   20.83923168  87.78536512  73.58467015  31.99692059\n",
            "   1.56685994  82.71368835  18.81056097  74.59900551  42.14027414\n",
            "  11.71021349   0.55252458  90.82837119  89.81403583  -0.46181077\n",
            "  41.12593879  15.76755491  94.88571261  97.92871867  66.48432266\n",
            "  23.88223775  16.78189026  90.82837119  12.72454884  -0.46181077\n",
            "  64.45565195  96.91438332  98.94305403  11.71021349  41.12593879\n",
            "  47.21195092  78.65634693  19.82489633  89.81403583  28.95391452\n",
            "  64.45565195  75.61334086  11.71021349  24.8965731   27.93957917\n",
            "  29.96824988  65.46998731  59.38397518  64.45565195  53.29796305\n",
            "  71.55599944  97.92871867  73.58467015   8.66720742  11.71021349\n",
            "  63.4413166   99.95738938  60.39831053  35.03992666   1.56685994\n",
            "  60.39831053  31.99692059  94.88571261  84.74235906  63.4413166\n",
            "  21.85356704  81.69935299  93.87137725  33.01125595   6.63853671\n",
            "  42.14027414  46.19761556  54.3122984   15.76755491  49.24062163\n",
            "  43.1546095   95.90004796  66.48432266  20.83923168  35.03992666\n",
            "  80.68501764  37.06859737  54.3122984   56.34096911   0.55252458\n",
            "  31.99692059  58.36963982  31.99692059  46.19761556  72.57033479\n",
            "  16.78189026  97.92871867  93.87137725  91.84270654  37.06859737\n",
            "   3.59553065  54.3122984   51.26929234  26.92524381  46.19761556\n",
            "  92.8570419   73.58467015  77.64201157  91.84270654  61.41264589\n",
            "  99.95738938   3.59553065  72.57033479  18.81056097  57.35530447\n",
            "  78.65634693  25.91090846  74.59900551  90.82837119  66.48432266\n",
            "  12.72454884  40.11160343  77.64201157  67.49865802  75.61334086\n",
            "  22.86790239  45.18328021  59.38397518  44.16894485  22.86790239\n",
            "  55.32663376  55.32663376  95.90004796  11.71021349   3.59553065\n",
            "   6.63853671 100.97172474  48.22628627  42.14027414  96.91438332\n",
            "  39.09726808 100.97172474  87.78536512  13.7388842   13.7388842\n",
            "  37.06859737   4.609866    88.79970048  91.84270654  65.46998731\n",
            "  74.59900551  56.34096911  15.76755491   4.609866    27.93957917\n",
            "  92.8570419   46.19761556  54.3122984   39.09726808  44.16894485\n",
            "  30.98258524  68.51299337  86.77102977  90.82837119  38.08293272\n",
            "  20.83923168  95.90004796  56.34096911  60.39831053  65.46998731\n",
            "  78.65634693  89.81403583   5.62420136  67.49865802  36.05426201\n",
            "  15.76755491 100.97172474  45.18328021  73.58467015  57.35530447\n",
            "  19.82489633  76.62767622  34.0255913   55.32663376  72.57033479\n",
            "  55.32663376   7.65287207  56.34096911  72.57033479  58.36963982\n",
            "   5.62420136  96.91438332  22.86790239  58.36963982  22.86790239\n",
            "  18.81056097  24.8965731   64.45565195  20.83923168  59.38397518\n",
            "  18.81056097  15.76755491  42.14027414  43.1546095   61.41264589\n",
            "  92.8570419   10.69587813  41.12593879   0.55252458   7.65287207\n",
            "  71.55599944  46.19761556  55.32663376  62.42698124  47.21195092]\n"
          ],
          "name": "stdout"
        }
      ]
    },
    {
      "cell_type": "code",
      "metadata": {
        "colab": {
          "base_uri": "https://localhost:8080/",
          "height": 282
        },
        "id": "9JW9KzGaHiVI",
        "outputId": "5e07573c-8fbd-4f9e-85bd-2c2639ee402d"
      },
      "source": [
        "plt.scatter(X,Y,label='actual points')\r\n",
        "plt.plot(X,y_pred,c='r',label='predicted')\r\n",
        "plt.legend()"
      ],
      "execution_count": 7,
      "outputs": [
        {
          "output_type": "execute_result",
          "data": {
            "text/plain": [
              "<matplotlib.legend.Legend at 0x7fbfc96a67b8>"
            ]
          },
          "metadata": {
            "tags": []
          },
          "execution_count": 7
        },
        {
          "output_type": "display_data",
          "data": {
            "image/png": "[encoded data removed]",
            "text/plain": [
              "<Figure size 432x288 with 1 Axes>"
            ]
          },
          "metadata": {
            "tags": [],
            "needs_background": "light"
          }
        }
      ]
    },
    {
      "cell_type": "code",
      "metadata": {
        "colab": {
          "base_uri": "https://localhost:8080/"
        },
        "id": "6ltUH_oQHmF9",
        "outputId": "2ea58fee-8f19-4dd5-e7d4-6268296691ff"
      },
      "source": [
        "ss_t=0\r\n",
        "ss_r=0\r\n",
        "for i in range(n):\r\n",
        "    y_pred=m*X[i]+c\r\n",
        "    ss_t=ss_t+(Y[i]-mean_y)**2\r\n",
        "    ss_r=ss_r+(Y[i]-y_pred)**2\r\n",
        "    r2=1-(ss_r/ss_t)\r\n",
        "print(r2)"
      ],
      "execution_count": 8,
      "outputs": [
        {
          "output_type": "stream",
          "text": [
            "0.9891203611402716\n"
          ],
          "name": "stdout"
        }
      ]
    },
    {
      "cell_type": "markdown",
      "metadata": {
        "id": "FrF_6KcpHswV"
      },
      "source": [
        "using sklearn"
      ]
    },
    {
      "cell_type": "code",
      "metadata": {
        "id": "IOSz__RlHvFb"
      },
      "source": [
        "x=pd.DataFrame(df['x'])\r\n",
        "y=df['y']\r\n"
      ],
      "execution_count": 9,
      "outputs": []
    },
    {
      "cell_type": "code",
      "metadata": {
        "id": "XUKe1SMzHv2L"
      },
      "source": [
        "from sklearn.model_selection import train_test_split"
      ],
      "execution_count": 10,
      "outputs": []
    },
    {
      "cell_type": "code",
      "metadata": {
        "id": "enR2MErAH08Z"
      },
      "source": [
        "X_train,X_test,Y_train,Y_test=train_test_split(x,y,test_size=0.3,random_state=3)"
      ],
      "execution_count": 11,
      "outputs": []
    },
    {
      "cell_type": "code",
      "metadata": {
        "id": "k4UWecSnH3Gw"
      },
      "source": [
        "from sklearn.linear_model import LinearRegression\r\n",
        "model=LinearRegression()"
      ],
      "execution_count": 12,
      "outputs": []
    },
    {
      "cell_type": "code",
      "metadata": {
        "colab": {
          "base_uri": "https://localhost:8080/"
        },
        "id": "MeSEiGBbH5PB",
        "outputId": "2d106dc6-8cce-45dd-c028-e374920fdce6"
      },
      "source": [
        "model.fit(X_train,Y_train)"
      ],
      "execution_count": 13,
      "outputs": [
        {
          "output_type": "execute_result",
          "data": {
            "text/plain": [
              "LinearRegression(copy_X=True, fit_intercept=True, n_jobs=None, normalize=False)"
            ]
          },
          "metadata": {
            "tags": []
          },
          "execution_count": 13
        }
      ]
    },
    {
      "cell_type": "code",
      "metadata": {
        "id": "zIIJtNWKH76A"
      },
      "source": [
        "y_predict=model.predict(X_test)"
      ],
      "execution_count": 14,
      "outputs": []
    },
    {
      "cell_type": "code",
      "metadata": {
        "colab": {
          "base_uri": "https://localhost:8080/"
        },
        "id": "ZBcgyrdQH8kD",
        "outputId": "0a303654-25b2-4d4f-8965-a5a81a4f897b"
      },
      "source": [
        "y_predict"
      ],
      "execution_count": 15,
      "outputs": [
        {
          "output_type": "execute_result",
          "data": {
            "text/plain": [
              "array([ 40.23980695,  96.08930204,  45.31703378,  15.86911818,\n",
              "        31.10079866,  28.05446257,  26.02357184,  91.01207522,\n",
              "        65.62594108,  32.11624403,  58.51782353,  -0.37800766,\n",
              "        96.08930204,  48.36336987,  50.3942606 ,  23.9926811 ,\n",
              "        65.62594108,  87.96573912,  63.59505035,  72.73405864,\n",
              "        17.90000891,  13.83822745,   3.6837738 ,  12.82278209,\n",
              "        15.86911818,  55.47148743,  52.42515133,  74.76494937,\n",
              "        44.30158841,  14.85367282,   5.71466453,  78.82673083,\n",
              "        18.91545428,  28.05446257,  39.22436158,  59.53326889,\n",
              "        16.88456355,  46.33247914,  96.08930204,  78.82673083,\n",
              "        73.74950401,  89.99662985,  55.47148743,  91.01207522,\n",
              "        11.80733672,  64.61049572,  68.67227718,  62.57960499,\n",
              "        19.93089964,  39.22436158,  41.25525232,  14.85367282,\n",
              "        56.4869328 ,  22.97723574,  46.33247914,  70.70316791,\n",
              "        84.91940302,  69.68772254,  19.93089964,  53.4405967 ,\n",
              "        69.68772254,  69.68772254,  36.17802549, 100.1510835 ,\n",
              "        98.12019277,  82.88851229, 100.1510835 ,  95.07385668,\n",
              "        27.0390172 ,  76.7958401 ,  84.91940302,  98.12019277,\n",
              "        99.13563814,  94.05841131,  89.99662985,  55.47148743,\n",
              "        20.94634501,  73.74950401,  44.30158841,  72.73405864,\n",
              "        92.02752058,   6.73010989,  11.80733672,  93.04296595,\n",
              "        14.85367282,  18.91545428,  68.67227718,  41.25525232,\n",
              "        82.88851229,  54.45604206])"
            ]
          },
          "metadata": {
            "tags": []
          },
          "execution_count": 15
        }
      ]
    },
    {
      "cell_type": "code",
      "metadata": {
        "id": "PjIXkKJLH-dh"
      },
      "source": [
        "from sklearn.metrics import r2_score"
      ],
      "execution_count": 16,
      "outputs": []
    },
    {
      "cell_type": "code",
      "metadata": {
        "id": "Zo490tKJICUe"
      },
      "source": [
        "score=r2_score(Y_test,y_predict)"
      ],
      "execution_count": 17,
      "outputs": []
    },
    {
      "cell_type": "code",
      "metadata": {
        "colab": {
          "base_uri": "https://localhost:8080/"
        },
        "id": "l1CEPFlDIC6s",
        "outputId": "1e694d2f-1dac-42e6-b481-dd2fb95408d2"
      },
      "source": [
        "score"
      ],
      "execution_count": 18,
      "outputs": [
        {
          "output_type": "execute_result",
          "data": {
            "text/plain": [
              "0.9911400833580252"
            ]
          },
          "metadata": {
            "tags": []
          },
          "execution_count": 18
        }
      ]
    },
    {
      "cell_type": "code",
      "metadata": {
        "id": "KJv9WweqIGqv"
      },
      "source": [
        "import seaborn as sn"
      ],
      "execution_count": 19,
      "outputs": []
    },
    {
      "cell_type": "code",
      "metadata": {
        "id": "TjdY5ZF2IHIH"
      },
      "source": [
        ""
      ],
      "execution_count": null,
      "outputs": []
    }
  ]
}