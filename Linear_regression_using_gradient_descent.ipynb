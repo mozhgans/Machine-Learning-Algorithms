{
  "nbformat": 4,
  "nbformat_minor": 0,
  "metadata": {
    "colab": {
      "name": "Linear regression using gradient descent.ipynb",
      "provenance": [],
      "authorship_tag": "ABX9TyMRFQZjufViAF5ukEJ70Ei8",
      "include_colab_link": true
    },
    "kernelspec": {
      "name": "python3",
      "display_name": "Python 3"
    }
  },
  "cells": [
    {
      "cell_type": "markdown",
      "metadata": {
        "id": "view-in-github",
        "colab_type": "text"
      },
      "source": [
        "<a href=\"https://colab.research.google.com/github/mozhgans/Machine-Learning-Algorithms/blob/main/Linear_regression_using_gradient_descent.ipynb\" target=\"_parent\"><img src=\"https://colab.research.google.com/assets/colab-badge.svg\" alt=\"Open In Colab\"/></a>"
      ]
    },
    {
      "cell_type": "markdown",
      "metadata": {
        "id": "HFSH8oApybiz"
      },
      "source": [
        "## Chapter 12 Linear regression using gradient descent\n",
        "## usually used when we have a large set of data\n",
        "## learn the coefficient for a simple linear regression model by minimizing the error on a training dataset\n",
        "## Simple linear regression model representation: y = B0 + B1 * x\n",
        "## procedure: w =w - alpha * delta, where w is the coefficient or weight being optimized, alpha is the learning rate and delta is the error for the model\n"
      ]
    },
    {
      "cell_type": "code",
      "metadata": {
        "id": "ve9afYFmyhMn"
      },
      "source": [
        "# import the libraries\n",
        "import numpy as np\n",
        "import pandas as pd\n",
        "import matplotlib.pyplot as plt\n",
        "%matplotlib inline"
      ],
      "execution_count": 1,
      "outputs": []
    },
    {
      "cell_type": "code",
      "metadata": {
        "colab": {
          "base_uri": "https://localhost:8080/"
        },
        "id": "1F6BxakT2KHe",
        "outputId": "9fe97306-4e49-4479-a918-01b7c386863e"
      },
      "source": [
        "dataset = [[1.1, 1.3, 1.5, 2, 2.2, 2.9, 3, 3.2, 3.2, 3.7, 3.9, 4, 4, 4.1, 4.5, 4.9, 5.1, 5.3, 5.9, 6, 6.8, 7.1, 7.9, 8.2, 8.7, 9, 9.5, 9.6, 10.3, 10.5, ], [39343, 46205, 37731, 43525, 39891, 56642, 60150, 54445, 64445, 57189, 63218, 55794, 56957, 57081, 61111, 67938, 66029, 83088, 81363, 93940, 91738, 98273, 101302, 113812, 109431, 105582, 116969, 112635, 122391, 121872]]\n",
        "dataset"
      ],
      "execution_count": 11,
      "outputs": [
        {
          "output_type": "execute_result",
          "data": {
            "text/plain": [
              "[[1.1,\n",
              "  1.3,\n",
              "  1.5,\n",
              "  2,\n",
              "  2.2,\n",
              "  2.9,\n",
              "  3,\n",
              "  3.2,\n",
              "  3.2,\n",
              "  3.7,\n",
              "  3.9,\n",
              "  4,\n",
              "  4,\n",
              "  4.1,\n",
              "  4.5,\n",
              "  4.9,\n",
              "  5.1,\n",
              "  5.3,\n",
              "  5.9,\n",
              "  6,\n",
              "  6.8,\n",
              "  7.1,\n",
              "  7.9,\n",
              "  8.2,\n",
              "  8.7,\n",
              "  9,\n",
              "  9.5,\n",
              "  9.6,\n",
              "  10.3,\n",
              "  10.5],\n",
              " [39343,\n",
              "  46205,\n",
              "  37731,\n",
              "  43525,\n",
              "  39891,\n",
              "  56642,\n",
              "  60150,\n",
              "  54445,\n",
              "  64445,\n",
              "  57189,\n",
              "  63218,\n",
              "  55794,\n",
              "  56957,\n",
              "  57081,\n",
              "  61111,\n",
              "  67938,\n",
              "  66029,\n",
              "  83088,\n",
              "  81363,\n",
              "  93940,\n",
              "  91738,\n",
              "  98273,\n",
              "  101302,\n",
              "  113812,\n",
              "  109431,\n",
              "  105582,\n",
              "  116969,\n",
              "  112635,\n",
              "  122391,\n",
              "  121872]]"
            ]
          },
          "metadata": {
            "tags": []
          },
          "execution_count": 11
        }
      ]
    },
    {
      "cell_type": "code",
      "metadata": {
        "id": "bCNbhaAxyqII"
      },
      "source": [
        "# import data\n",
        "#dataset = pd.read_csv('D:\\zou hua notebook back up\\Documents\\TAMU\\DS_projects\\salary_data.csv')\n",
        "X = dataset[0]\n",
        "\n",
        "y = dataset[1]"
      ],
      "execution_count": 12,
      "outputs": []
    },
    {
      "cell_type": "code",
      "metadata": {
        "colab": {
          "base_uri": "https://localhost:8080/"
        },
        "id": "fMnlUOhlyqOp",
        "outputId": "093d8ea1-fd4c-423b-afe1-3b0c39681578"
      },
      "source": [
        "# Using gradient descent to update coefficients\n",
        "n = 20\n",
        "B0 = np.zeros(n)\n",
        "B1 = np.zeros(n)\n",
        "error = np.zeros(n)\n",
        "alpha = 0.01\n",
        "for i in range(0,n-1):\n",
        "    y_i = B0[i] + B1[i]*X[i]\n",
        "    error[i] = y_i - y[i]\n",
        "    B0[i+1] = B0[i] - alpha * error[i]\n",
        "    B1[i+1] = B1[i] - alpha * error[i] * X[i]\n",
        "print(B0)\n",
        "print(B1)"
      ],
      "execution_count": 13,
      "outputs": [
        {
          "output_type": "stream",
          "text": [
            "[   0.          393.43        845.919651   1199.4553113  1591.68449745\n",
            " 1923.29068147 2381.58392926 2827.43742699 3160.1917431  3555.54447408\n",
            " 3793.59026571 4039.07187474 4160.62090877 4273.13660701 4356.92837145\n",
            " 4421.37757726 4494.52199575 4506.62651434 4662.27165553 4679.10026886]\n",
            "[    0.           432.773       1021.0095463   1551.31303674\n",
            "  2335.77140905  3065.30501391  4394.35543247  5731.91592567\n",
            "  6796.72973722  8061.85847635  8942.6279054   9900.00618062\n",
            " 10386.20231673 10836.26510971 11179.81134388 11469.83277003\n",
            " 11828.24042066 11889.97346546 12714.89271375 12814.18153242]\n"
          ],
          "name": "stdout"
        }
      ]
    },
    {
      "cell_type": "code",
      "metadata": {
        "colab": {
          "base_uri": "https://localhost:8080/",
          "height": 312
        },
        "id": "N3to0gY5yqRx",
        "outputId": "12aa7df0-01ca-4a57-a117-b39246087395"
      },
      "source": [
        "# plot the error with the interations\n",
        "plt.plot(range(0,n),error)\n",
        "plt.title('Error VS iterations')\n",
        "plt.xlabel('Iteration')\n",
        "plt.ylabel('Error')"
      ],
      "execution_count": 14,
      "outputs": [
        {
          "output_type": "execute_result",
          "data": {
            "text/plain": [
              "Text(0, 0.5, 'Error')"
            ]
          },
          "metadata": {
            "tags": []
          },
          "execution_count": 14
        },
        {
          "output_type": "display_data",
          "data": {
            "image/png": "[encoded data removed]",
            "text/plain": [
              "<Figure size 432x288 with 1 Axes>"
            ]
          },
          "metadata": {
            "tags": [],
            "needs_background": "light"
          }
        }
      ]
    },
    {
      "cell_type": "code",
      "metadata": {
        "colab": {
          "base_uri": "https://localhost:8080/",
          "height": 312
        },
        "id": "mppT1WDM57ae",
        "outputId": "5c30e417-bf3c-4843-a75d-11756cc01b1a"
      },
      "source": [
        "# visualizing the results\n",
        "y1 = B0[n-1] + B1[n-1] * np.asarray(X)\n",
        "plt.scatter(X, y, color=\"red\")\n",
        "plt.plot(X,y1, color='blue')\n",
        "plt.title('Salary vs Experience')\n",
        "plt.xlabel('year of experience')\n",
        "plt.ylabel('salary')\n",
        "plt.show"
      ],
      "execution_count": 20,
      "outputs": [
        {
          "output_type": "execute_result",
          "data": {
            "text/plain": [
              "<function matplotlib.pyplot.show>"
            ]
          },
          "metadata": {
            "tags": []
          },
          "execution_count": 20
        },
        {
          "output_type": "display_data",
          "data": {
            "image/png": "[encoded data removed]",
            "text/plain": [
              "<Figure size 432x288 with 1 Axes>"
            ]
          },
          "metadata": {
            "tags": [],
            "needs_background": "light"
          }
        }
      ]
    },
    {
      "cell_type": "code",
      "metadata": {
        "id": "_b3LkdF66A4S"
      },
      "source": [
        ""
      ],
      "execution_count": null,
      "outputs": []
    }
  ]
}