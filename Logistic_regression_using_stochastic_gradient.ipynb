{
  "nbformat": 4,
  "nbformat_minor": 0,
  "metadata": {
    "colab": {
      "name": "Logistic regression using stochastic gradient.ipynb",
      "provenance": [],
      "authorship_tag": "ABX9TyNpFPJ41gayAtzyGM/TSS6P",
      "include_colab_link": true
    },
    "kernelspec": {
      "name": "python3",
      "display_name": "Python 3"
    }
  },
  "cells": [
    {
      "cell_type": "markdown",
      "metadata": {
        "id": "view-in-github",
        "colab_type": "text"
      },
      "source": [
        "<a href=\"https://colab.research.google.com/github/mozhgans/Machine-Learning-Algorithms/blob/main/Logistic_regression_using_stochastic_gradient.ipynb\" target=\"_parent\"><img src=\"https://colab.research.google.com/assets/colab-badge.svg\" alt=\"Open In Colab\"/></a>"
      ]
    },
    {
      "cell_type": "markdown",
      "metadata": {
        "id": "bZVkv3LFK6XF"
      },
      "source": [
        "\n",
        "# Chapters 13 and 14 Logistic regression\n",
        "# Log odds or logit: ln(p/(1-p))\n",
        "# Representation of logistic regression model: y = exp(B0+B1*X)/(1+exp(B0+B1*X))\n",
        "# Logistic regression is actually predicting the probabilities, and then transformed into a binary value (0 0r 1) to make a crisp prediction\n",
        "# Coefficients of the logistic regreesion is estimated by a variety of machine learning algorithms\n",
        "# Preparing data: \n",
        "#（1） Binary output variable\n",
        "# (2) Remove noise:Removing outliers\n",
        "# (3) Gaussian distribution: For example, you can use log, root,Box-Cox and other univariate transforms to better expose this linear relationship\n",
        "# (4) Remove correlated inputs:Consider calculating the pairwise correlations between all inputs and removing highly correlated inputs.\n",
        "# (5） Fail to converge: If there are many highly correlated inputs or the data is very sparse"
      ]
    },
    {
      "cell_type": "code",
      "metadata": {
        "id": "iTqqEZXAKr3r"
      },
      "source": [
        "# import the libraries\n",
        "import numpy as np\n",
        "import pandas as pd\n",
        "import matplotlib.pyplot as plt\n",
        "%matplotlib inline"
      ],
      "execution_count": 2,
      "outputs": []
    },
    {
      "cell_type": "code",
      "metadata": {
        "id": "5XqSf0qmK_Um"
      },
      "source": [
        "# import data\n",
        "X1 = np.array([2.7810836,1.465489372,3.396561688,1.38807019,3.06407232,7.627531214,5.332441248,6.922596716,8.675418651,7.673756466])\n",
        "X2 = np.array([2.550537003,2.362125076,4.400293529,1.850220317,3.005305973,2.759262235,2.088626775,1.77106367,-0.242068655,3.508563011])\n",
        "y = np.array([0,0,0,0,0,1,1,1,1,1])"
      ],
      "execution_count": 3,
      "outputs": []
    },
    {
      "cell_type": "code",
      "metadata": {
        "colab": {
          "base_uri": "https://localhost:8080/",
          "height": 312
        },
        "id": "SMBB2YqtK_Wp",
        "outputId": "aa50d581-e5cb-4c68-b054-ea6c4a13e525"
      },
      "source": [
        "# visualization of data\n",
        "plt.scatter(X1[0:5],X2[0:5], color='blue')\n",
        "plt.scatter(X1[5:10],X2[5:10],color = \"red\")\n",
        "plt.title('Scatter of the data')\n",
        "plt.xlabel('X1')\n",
        "plt.ylabel('X2')"
      ],
      "execution_count": 4,
      "outputs": [
        {
          "output_type": "execute_result",
          "data": {
            "text/plain": [
              "Text(0, 0.5, 'X2')"
            ]
          },
          "metadata": {
            "tags": []
          },
          "execution_count": 4
        },
        {
          "output_type": "display_data",
          "data": {
            "image/png": "[encoded data removed]",
            "text/plain": [
              "<Figure size 432x288 with 1 Axes>"
            ]
          },
          "metadata": {
            "tags": [],
            "needs_background": "light"
          }
        }
      ]
    },
    {
      "cell_type": "code",
      "metadata": {
        "colab": {
          "base_uri": "https://localhost:8080/"
        },
        "id": "vKz2-RG7LNGR",
        "outputId": "80e2bdf8-5917-4cb3-9941-6ad671acdd36"
      },
      "source": [
        "\n",
        "# Logistic regression by stochastic gradient descent\n",
        "n = 10\n",
        "B0 = np.zeros(n)\n",
        "B1 = np.zeros(n)\n",
        "B2 = np.zeros(n)\n",
        "alpha = 0.3\n",
        "for i in range(0,n-1):\n",
        "    y_i = 1/(1+np.exp(-(B0[i]+B1[i]*X1[i]+B2[i]*X2[i])))  #prediction\n",
        "    B0[i+1] = B0[i] + alpha * (y[i]-y_i)*y_i*(1-y_i)*1\n",
        "    B1[i+1] = B1[i] - alpha * (y[i]-y_i)*y_i*(1-y_i)*X1[i]\n",
        "    B2[i+1] = B2[i] - alpha * (y[i]-y_i)*y_i*(1-y_i)*X2[i]\n",
        "print(B0[n-1])\n",
        "print(B1[n-1])\n",
        "print(B2[n-1])"
      ],
      "execution_count": 5,
      "outputs": [
        {
          "output_type": "stream",
          "text": [
            "-0.18421481086159977\n",
            "0.42247115547871716\n",
            "0.5151608988402318\n"
          ],
          "name": "stdout"
        }
      ]
    },
    {
      "cell_type": "code",
      "metadata": {
        "colab": {
          "base_uri": "https://localhost:8080/"
        },
        "id": "auxGSCm0LOdS",
        "outputId": "25fd84c3-2450-41ca-d0a6-bdfb762ad45d"
      },
      "source": [
        "# visualizing the results, seems one epoch is not enough for learning\n",
        "y1 = B0[n-1] + B1[n-1]*X1 +B2[n-1]*X2\n",
        "for i in range(len(y1)):\n",
        "    if y1[i]<0.5:\n",
        "        y1[i]=0\n",
        "    if y1[i]>=0.5:\n",
        "        y1[i]=1\n",
        "print(y1)\n",
        "#plt.scatter(X, y, color=\"red\")\n",
        "#plt.plot(X,y1, color='blue')\n",
        "#plt.title('Salary vs Experience')\n",
        "#plt.xlabel('year of experience')\n",
        "#plt.ylabel('salary')\n",
        "#plt.show"
      ],
      "execution_count": 6,
      "outputs": [
        {
          "output_type": "stream",
          "text": [
            "[1. 1. 1. 1. 1. 1. 1. 1. 1. 1.]\n"
          ],
          "name": "stdout"
        }
      ]
    },
    {
      "cell_type": "code",
      "metadata": {
        "colab": {
          "base_uri": "https://localhost:8080/"
        },
        "id": "FZLI26trLU05",
        "outputId": "a9fd1b37-7c6a-4508-f1aa-1528fe7cfab1"
      },
      "source": [
        "\n",
        "# Using sklearn model to implement logistic regression\n",
        "from sklearn.linear_model import LogisticRegression\n",
        "X = np.transpose(np.array([X1,X2]))\n",
        "clf = LogisticRegression(random_state=0).fit(X,y)\n",
        "clf.score(X,y)"
      ],
      "execution_count": 7,
      "outputs": [
        {
          "output_type": "execute_result",
          "data": {
            "text/plain": [
              "1.0"
            ]
          },
          "metadata": {
            "tags": []
          },
          "execution_count": 7
        }
      ]
    },
    {
      "cell_type": "code",
      "metadata": {
        "id": "ph2v4BI5K_aQ"
      },
      "source": [
        ""
      ],
      "execution_count": null,
      "outputs": []
    }
  ]
}