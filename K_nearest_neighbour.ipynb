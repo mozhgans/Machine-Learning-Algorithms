{
  "nbformat": 4,
  "nbformat_minor": 0,
  "metadata": {
    "colab": {
      "name": "K-nearest neighbour.ipynb",
      "provenance": [],
      "authorship_tag": "ABX9TyPsxyMzQcVIb9w2Xxyibg/3",
      "include_colab_link": true
    },
    "kernelspec": {
      "name": "python3",
      "display_name": "Python 3"
    }
  },
  "cells": [
    {
      "cell_type": "markdown",
      "metadata": {
        "id": "view-in-github",
        "colab_type": "text"
      },
      "source": [
        "<a href=\"https://colab.research.google.com/github/mozhgans/Machine-Learning-Algorithms/blob/main/K_nearest_neighbour.ipynb\" target=\"_parent\"><img src=\"https://colab.research.google.com/assets/colab-badge.svg\" alt=\"Open In Colab\"/></a>"
      ]
    },
    {
      "cell_type": "markdown",
      "metadata": {
        "id": "BuZnrrCa30L3"
      },
      "source": [
        "### Chapters 22 and 23\n",
        "### Calculate the Euclidean distance of the new data and the training data set\n",
        "### Select k nearest neighbors to determine which class the new data is"
      ]
    },
    {
      "cell_type": "code",
      "metadata": {
        "id": "PYQY9BNT3uEi"
      },
      "source": [
        "\n",
        "# import libraries\n",
        "import numpy as np\n",
        "import pandas as pd\n",
        "import matplotlib.pyplot as plt\n",
        "%matplotlib inline"
      ],
      "execution_count": 1,
      "outputs": []
    },
    {
      "cell_type": "code",
      "metadata": {
        "id": "AfbcpuWA382t"
      },
      "source": [
        "# import data\n",
        "X =[[3.39,2.33],[3.11,1.78],[1.34,3.36],[3.58,4.67],[2.28,2.86],[7.42,4.69],[5.74,3.53],[9.17,2.51],[7.79,3.42],[7.93,0.79]]\n",
        "y = np.array([0,0,0,0,0,1,1,1,1,1])"
      ],
      "execution_count": 4,
      "outputs": []
    },
    {
      "cell_type": "code",
      "metadata": {
        "id": "N3QdaerP38-h"
      },
      "source": [
        "# given new data and k\n",
        "new_data =[[8.09,3.66]]\n",
        "k = 3"
      ],
      "execution_count": 11,
      "outputs": []
    },
    {
      "cell_type": "code",
      "metadata": {
        "id": "ZY-o4Lxo47li"
      },
      "source": [
        "# Calculate the Euclidean distance between the new data and training data\n",
        "from sklearn.metrics.pairwise import euclidean_distances\n",
        "Distance = euclidean_distances(X,new_data)"
      ],
      "execution_count": 12,
      "outputs": []
    },
    {
      "cell_type": "code",
      "metadata": {
        "colab": {
          "base_uri": "https://localhost:8080/"
        },
        "id": "FMfp3CGZ4_lX",
        "outputId": "6292b884-cb70-481e-ac1c-e9550a7ee2f8"
      },
      "source": [
        "index_Y = np.argsort(Distance,axis=0)\n",
        "print(index_Y.shape)"
      ],
      "execution_count": 13,
      "outputs": [
        {
          "output_type": "stream",
          "text": [
            "(10, 1)\n"
          ],
          "name": "stdout"
        }
      ]
    },
    {
      "cell_type": "code",
      "metadata": {
        "colab": {
          "base_uri": "https://localhost:8080/"
        },
        "id": "SWDC6Be05C46",
        "outputId": "07d70b4f-3db8-4b88-e6dc-d8196853930a"
      },
      "source": [
        "import statistics as stats\n",
        "\n",
        "pred_y = y[index_Y[0:3,]]\n",
        "print(pred_y)\n",
        "pred_y.tolist()"
      ],
      "execution_count": 14,
      "outputs": [
        {
          "output_type": "stream",
          "text": [
            "[[1]\n",
            " [1]\n",
            " [1]]\n"
          ],
          "name": "stdout"
        },
        {
          "output_type": "execute_result",
          "data": {
            "text/plain": [
              "[[1], [1], [1]]"
            ]
          },
          "metadata": {
            "tags": []
          },
          "execution_count": 14
        }
      ]
    },
    {
      "cell_type": "code",
      "metadata": {
        "colab": {
          "base_uri": "https://localhost:8080/"
        },
        "id": "Nt8xXEeb5GN9",
        "outputId": "c82ac90f-e46c-4dd7-90d9-4c5fae56ac37"
      },
      "source": [
        "print(pred_y.shape)\n",
        "np.concatenate(pred_y)"
      ],
      "execution_count": 15,
      "outputs": [
        {
          "output_type": "stream",
          "text": [
            "(3, 1)\n"
          ],
          "name": "stdout"
        },
        {
          "output_type": "execute_result",
          "data": {
            "text/plain": [
              "array([1, 1, 1])"
            ]
          },
          "metadata": {
            "tags": []
          },
          "execution_count": 15
        }
      ]
    },
    {
      "cell_type": "code",
      "metadata": {
        "colab": {
          "base_uri": "https://localhost:8080/"
        },
        "id": "GZyX7eBI5J0q",
        "outputId": "5816a8b4-b89e-4ab9-daa1-840a9ea0a861"
      },
      "source": [
        "import scipy\n",
        "pred_class = scipy.stats.mode(pred_y,axis=1)\n",
        "print(pred_class)"
      ],
      "execution_count": 16,
      "outputs": [
        {
          "output_type": "stream",
          "text": [
            "ModeResult(mode=array([[1],\n",
            "       [1],\n",
            "       [1]]), count=array([[1],\n",
            "       [1],\n",
            "       [1]]))\n"
          ],
          "name": "stdout"
        }
      ]
    }
  ]
}