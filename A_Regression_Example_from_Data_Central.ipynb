{
  "nbformat": 4,
  "nbformat_minor": 0,
  "metadata": {
    "colab": {
      "name": "A Regression Example from Data Central.ipynb",
      "provenance": [],
      "authorship_tag": "ABX9TyOo3A/EWHicLN05DdJBQCx/",
      "include_colab_link": true
    },
    "kernelspec": {
      "name": "python3",
      "display_name": "Python 3"
    }
  },
  "cells": [
    {
      "cell_type": "markdown",
      "metadata": {
        "id": "view-in-github",
        "colab_type": "text"
      },
      "source": [
        "<a href=\"https://colab.research.google.com/github/mozhgans/Machine-Learning-Algorithms/blob/main/A_Regression_Example_from_Data_Central.ipynb\" target=\"_parent\"><img src=\"https://colab.research.google.com/assets/colab-badge.svg\" alt=\"Open In Colab\"/></a>"
      ]
    },
    {
      "cell_type": "markdown",
      "metadata": {
        "id": "YGnQoi-Bx04d"
      },
      "source": [
        "\n",
        "The steps for the code\n",
        "Load and describe the data\n",
        "Exploratory Data Analysis 2.1 Exploratory data analysis – numerical 2.2 Exploratory data analysis - visual 2.3 Analyse the target variable 2.4 compute the correlation\n",
        "Pre-process the data 3.1 Dealing with missing values 3.2 Treatment of categorical values 3.3 Remove the outliers 3.4 Normalise the data\n",
        "Split the data\n",
        "Choose a Baseline algorithm 5.1 defining / instantiating the baseline model 5.2 fitting the model we have developed to our training set 5.3 Define the evaluation metric 5.4 predict scores against our test set and assess how good it is\n",
        "Refine our dataset with additional columns\n",
        "Test Alternative Models\n",
        "Choose the best model and optimise its parameters Gridsearch"
      ]
    },
    {
      "cell_type": "code",
      "metadata": {
        "id": "21Kk1o4Cxwd4"
      },
      "source": [
        "import pandas as pd\n",
        "import numpy as np\n",
        "import matplotlib.pyplot as plt\n",
        "import seaborn as sns\n",
        "\n",
        "# rather than importing the whole sklearn library, we will import certain modules \n",
        "from sklearn.linear_model import LinearRegression\n",
        "from sklearn.ensemble import RandomForestRegressor\n",
        "from sklearn.datasets import load_boston\n",
        "from sklearn import model_selection\n",
        "from sklearn.preprocessing import StandardScaler\n",
        "from sklearn import metrics"
      ],
      "execution_count": 1,
      "outputs": []
    },
    {
      "cell_type": "code",
      "metadata": {
        "colab": {
          "base_uri": "https://localhost:8080/"
        },
        "id": "7Pxwy1eHx53u",
        "outputId": "601a81c5-f6ea-49f7-c182-74edd7cd2223"
      },
      "source": [
        "# we load the dataset and save it as the variable boston\n",
        "boston = load_boston()\n",
        "boston\n",
        "\n",
        "# take a look at the details provided by this dataset\n",
        "boston.keys()\n",
        "\n",
        "# the info at the .DESCR key will tell us more\n",
        "print(boston.DESCR)"
      ],
      "execution_count": 2,
      "outputs": [
        {
          "output_type": "stream",
          "text": [
            ".. _boston_dataset:\n",
            "\n",
            "Boston house prices dataset\n",
            "---------------------------\n",
            "\n",
            "**Data Set Characteristics:**  \n",
            "\n",
            "    :Number of Instances: 506 \n",
            "\n",
            "    :Number of Attributes: 13 numeric/categorical predictive. Median Value (attribute 14) is usually the target.\n",
            "\n",
            "    :Attribute Information (in order):\n",
            "        - CRIM     per capita crime rate by town\n",
            "        - ZN       proportion of residential land zoned for lots over 25,000 sq.ft.\n",
            "        - INDUS    proportion of non-retail business acres per town\n",
            "        - CHAS     Charles River dummy variable (= 1 if tract bounds river; 0 otherwise)\n",
            "        - NOX      nitric oxides concentration (parts per 10 million)\n",
            "        - RM       average number of rooms per dwelling\n",
            "        - AGE      proportion of owner-occupied units built prior to 1940\n",
            "        - DIS      weighted distances to five Boston employment centres\n",
            "        - RAD      index of accessibility to radial highways\n",
            "        - TAX      full-value property-tax rate per $10,000\n",
            "        - PTRATIO  pupil-teacher ratio by town\n",
            "        - B        1000(Bk - 0.63)^2 where Bk is the proportion of blacks by town\n",
            "        - LSTAT    % lower status of the population\n",
            "        - MEDV     Median value of owner-occupied homes in $1000's\n",
            "\n",
            "    :Missing Attribute Values: None\n",
            "\n",
            "    :Creator: Harrison, D. and Rubinfeld, D.L.\n",
            "\n",
            "This is a copy of UCI ML housing dataset.\n",
            "https://archive.ics.uci.edu/ml/machine-learning-databases/housing/\n",
            "\n",
            "\n",
            "This dataset was taken from the StatLib library which is maintained at Carnegie Mellon University.\n",
            "\n",
            "The Boston house-price data of Harrison, D. and Rubinfeld, D.L. 'Hedonic\n",
            "prices and the demand for clean air', J. Environ. Economics & Management,\n",
            "vol.5, 81-102, 1978.   Used in Belsley, Kuh & Welsch, 'Regression diagnostics\n",
            "...', Wiley, 1980.   N.B. Various transformations are used in the table on\n",
            "pages 244-261 of the latter.\n",
            "\n",
            "The Boston house-price data has been used in many machine learning papers that address regression\n",
            "problems.   \n",
            "     \n",
            ".. topic:: References\n",
            "\n",
            "   - Belsley, Kuh & Welsch, 'Regression diagnostics: Identifying Influential Data and Sources of Collinearity', Wiley, 1980. 244-261.\n",
            "   - Quinlan,R. (1993). Combining Instance-Based and Model-Based Learning. In Proceedings on the Tenth International Conference of Machine Learning, 236-243, University of Massachusetts, Amherst. Morgan Kaufmann.\n",
            "\n"
          ],
          "name": "stdout"
        }
      ]
    },
    {
      "cell_type": "code",
      "metadata": {
        "colab": {
          "base_uri": "https://localhost:8080/",
          "height": 204
        },
        "id": "OOOrWTqIyFMV",
        "outputId": "a12d7dff-eba0-4688-b586-c036123369ea"
      },
      "source": [
        "# create a dataframe\n",
        "boston_X = pd.DataFrame(boston.data,columns=boston.feature_names)\n",
        "boston_X.head()"
      ],
      "execution_count": 3,
      "outputs": [
        {
          "output_type": "execute_result",
          "data": {
            "text/html": [
              "<div>\n",
              "<style scoped>\n",
              "    .dataframe tbody tr th:only-of-type {\n",
              "        vertical-align: middle;\n",
              "    }\n",
              "\n",
              "    .dataframe tbody tr th {\n",
              "        vertical-align: top;\n",
              "    }\n",
              "\n",
              "    .dataframe thead th {\n",
              "        text-align: right;\n",
              "    }\n",
              "</style>\n",
              "<table border=\"1\" class=\"dataframe\">\n",
              "  <thead>\n",
              "    <tr style=\"text-align: right;\">\n",
              "      <th></th>\n",
              "      <th>CRIM</th>\n",
              "      <th>ZN</th>\n",
              "      <th>INDUS</th>\n",
              "      <th>CHAS</th>\n",
              "      <th>NOX</th>\n",
              "      <th>RM</th>\n",
              "      <th>AGE</th>\n",
              "      <th>DIS</th>\n",
              "      <th>RAD</th>\n",
              "      <th>TAX</th>\n",
              "      <th>PTRATIO</th>\n",
              "      <th>B</th>\n",
              "      <th>LSTAT</th>\n",
              "    </tr>\n",
              "  </thead>\n",
              "  <tbody>\n",
              "    <tr>\n",
              "      <th>0</th>\n",
              "      <td>0.00632</td>\n",
              "      <td>18.0</td>\n",
              "      <td>2.31</td>\n",
              "      <td>0.0</td>\n",
              "      <td>0.538</td>\n",
              "      <td>6.575</td>\n",
              "      <td>65.2</td>\n",
              "      <td>4.0900</td>\n",
              "      <td>1.0</td>\n",
              "      <td>296.0</td>\n",
              "      <td>15.3</td>\n",
              "      <td>396.90</td>\n",
              "      <td>4.98</td>\n",
              "    </tr>\n",
              "    <tr>\n",
              "      <th>1</th>\n",
              "      <td>0.02731</td>\n",
              "      <td>0.0</td>\n",
              "      <td>7.07</td>\n",
              "      <td>0.0</td>\n",
              "      <td>0.469</td>\n",
              "      <td>6.421</td>\n",
              "      <td>78.9</td>\n",
              "      <td>4.9671</td>\n",
              "      <td>2.0</td>\n",
              "      <td>242.0</td>\n",
              "      <td>17.8</td>\n",
              "      <td>396.90</td>\n",
              "      <td>9.14</td>\n",
              "    </tr>\n",
              "    <tr>\n",
              "      <th>2</th>\n",
              "      <td>0.02729</td>\n",
              "      <td>0.0</td>\n",
              "      <td>7.07</td>\n",
              "      <td>0.0</td>\n",
              "      <td>0.469</td>\n",
              "      <td>7.185</td>\n",
              "      <td>61.1</td>\n",
              "      <td>4.9671</td>\n",
              "      <td>2.0</td>\n",
              "      <td>242.0</td>\n",
              "      <td>17.8</td>\n",
              "      <td>392.83</td>\n",
              "      <td>4.03</td>\n",
              "    </tr>\n",
              "    <tr>\n",
              "      <th>3</th>\n",
              "      <td>0.03237</td>\n",
              "      <td>0.0</td>\n",
              "      <td>2.18</td>\n",
              "      <td>0.0</td>\n",
              "      <td>0.458</td>\n",
              "      <td>6.998</td>\n",
              "      <td>45.8</td>\n",
              "      <td>6.0622</td>\n",
              "      <td>3.0</td>\n",
              "      <td>222.0</td>\n",
              "      <td>18.7</td>\n",
              "      <td>394.63</td>\n",
              "      <td>2.94</td>\n",
              "    </tr>\n",
              "    <tr>\n",
              "      <th>4</th>\n",
              "      <td>0.06905</td>\n",
              "      <td>0.0</td>\n",
              "      <td>2.18</td>\n",
              "      <td>0.0</td>\n",
              "      <td>0.458</td>\n",
              "      <td>7.147</td>\n",
              "      <td>54.2</td>\n",
              "      <td>6.0622</td>\n",
              "      <td>3.0</td>\n",
              "      <td>222.0</td>\n",
              "      <td>18.7</td>\n",
              "      <td>396.90</td>\n",
              "      <td>5.33</td>\n",
              "    </tr>\n",
              "  </tbody>\n",
              "</table>\n",
              "</div>"
            ],
            "text/plain": [
              "      CRIM    ZN  INDUS  CHAS    NOX  ...  RAD    TAX  PTRATIO       B  LSTAT\n",
              "0  0.00632  18.0   2.31   0.0  0.538  ...  1.0  296.0     15.3  396.90   4.98\n",
              "1  0.02731   0.0   7.07   0.0  0.469  ...  2.0  242.0     17.8  396.90   9.14\n",
              "2  0.02729   0.0   7.07   0.0  0.469  ...  2.0  242.0     17.8  392.83   4.03\n",
              "3  0.03237   0.0   2.18   0.0  0.458  ...  3.0  222.0     18.7  394.63   2.94\n",
              "4  0.06905   0.0   2.18   0.0  0.458  ...  3.0  222.0     18.7  396.90   5.33\n",
              "\n",
              "[5 rows x 13 columns]"
            ]
          },
          "metadata": {
            "tags": []
          },
          "execution_count": 3
        }
      ]
    },
    {
      "cell_type": "code",
      "metadata": {
        "colab": {
          "base_uri": "https://localhost:8080/",
          "height": 297
        },
        "id": "HgLbHJxYyKfy",
        "outputId": "009cd467-dc91-4fce-8f62-2cfc49445bbe"
      },
      "source": [
        "# Get a summary statistics on all numerical variables\n",
        "boston_X.describe()"
      ],
      "execution_count": 4,
      "outputs": [
        {
          "output_type": "execute_result",
          "data": {
            "text/html": [
              "<div>\n",
              "<style scoped>\n",
              "    .dataframe tbody tr th:only-of-type {\n",
              "        vertical-align: middle;\n",
              "    }\n",
              "\n",
              "    .dataframe tbody tr th {\n",
              "        vertical-align: top;\n",
              "    }\n",
              "\n",
              "    .dataframe thead th {\n",
              "        text-align: right;\n",
              "    }\n",
              "</style>\n",
              "<table border=\"1\" class=\"dataframe\">\n",
              "  <thead>\n",
              "    <tr style=\"text-align: right;\">\n",
              "      <th></th>\n",
              "      <th>CRIM</th>\n",
              "      <th>ZN</th>\n",
              "      <th>INDUS</th>\n",
              "      <th>CHAS</th>\n",
              "      <th>NOX</th>\n",
              "      <th>RM</th>\n",
              "      <th>AGE</th>\n",
              "      <th>DIS</th>\n",
              "      <th>RAD</th>\n",
              "      <th>TAX</th>\n",
              "      <th>PTRATIO</th>\n",
              "      <th>B</th>\n",
              "      <th>LSTAT</th>\n",
              "    </tr>\n",
              "  </thead>\n",
              "  <tbody>\n",
              "    <tr>\n",
              "      <th>count</th>\n",
              "      <td>506.000000</td>\n",
              "      <td>506.000000</td>\n",
              "      <td>506.000000</td>\n",
              "      <td>506.000000</td>\n",
              "      <td>506.000000</td>\n",
              "      <td>506.000000</td>\n",
              "      <td>506.000000</td>\n",
              "      <td>506.000000</td>\n",
              "      <td>506.000000</td>\n",
              "      <td>506.000000</td>\n",
              "      <td>506.000000</td>\n",
              "      <td>506.000000</td>\n",
              "      <td>506.000000</td>\n",
              "    </tr>\n",
              "    <tr>\n",
              "      <th>mean</th>\n",
              "      <td>3.613524</td>\n",
              "      <td>11.363636</td>\n",
              "      <td>11.136779</td>\n",
              "      <td>0.069170</td>\n",
              "      <td>0.554695</td>\n",
              "      <td>6.284634</td>\n",
              "      <td>68.574901</td>\n",
              "      <td>3.795043</td>\n",
              "      <td>9.549407</td>\n",
              "      <td>408.237154</td>\n",
              "      <td>18.455534</td>\n",
              "      <td>356.674032</td>\n",
              "      <td>12.653063</td>\n",
              "    </tr>\n",
              "    <tr>\n",
              "      <th>std</th>\n",
              "      <td>8.601545</td>\n",
              "      <td>23.322453</td>\n",
              "      <td>6.860353</td>\n",
              "      <td>0.253994</td>\n",
              "      <td>0.115878</td>\n",
              "      <td>0.702617</td>\n",
              "      <td>28.148861</td>\n",
              "      <td>2.105710</td>\n",
              "      <td>8.707259</td>\n",
              "      <td>168.537116</td>\n",
              "      <td>2.164946</td>\n",
              "      <td>91.294864</td>\n",
              "      <td>7.141062</td>\n",
              "    </tr>\n",
              "    <tr>\n",
              "      <th>min</th>\n",
              "      <td>0.006320</td>\n",
              "      <td>0.000000</td>\n",
              "      <td>0.460000</td>\n",
              "      <td>0.000000</td>\n",
              "      <td>0.385000</td>\n",
              "      <td>3.561000</td>\n",
              "      <td>2.900000</td>\n",
              "      <td>1.129600</td>\n",
              "      <td>1.000000</td>\n",
              "      <td>187.000000</td>\n",
              "      <td>12.600000</td>\n",
              "      <td>0.320000</td>\n",
              "      <td>1.730000</td>\n",
              "    </tr>\n",
              "    <tr>\n",
              "      <th>25%</th>\n",
              "      <td>0.082045</td>\n",
              "      <td>0.000000</td>\n",
              "      <td>5.190000</td>\n",
              "      <td>0.000000</td>\n",
              "      <td>0.449000</td>\n",
              "      <td>5.885500</td>\n",
              "      <td>45.025000</td>\n",
              "      <td>2.100175</td>\n",
              "      <td>4.000000</td>\n",
              "      <td>279.000000</td>\n",
              "      <td>17.400000</td>\n",
              "      <td>375.377500</td>\n",
              "      <td>6.950000</td>\n",
              "    </tr>\n",
              "    <tr>\n",
              "      <th>50%</th>\n",
              "      <td>0.256510</td>\n",
              "      <td>0.000000</td>\n",
              "      <td>9.690000</td>\n",
              "      <td>0.000000</td>\n",
              "      <td>0.538000</td>\n",
              "      <td>6.208500</td>\n",
              "      <td>77.500000</td>\n",
              "      <td>3.207450</td>\n",
              "      <td>5.000000</td>\n",
              "      <td>330.000000</td>\n",
              "      <td>19.050000</td>\n",
              "      <td>391.440000</td>\n",
              "      <td>11.360000</td>\n",
              "    </tr>\n",
              "    <tr>\n",
              "      <th>75%</th>\n",
              "      <td>3.677083</td>\n",
              "      <td>12.500000</td>\n",
              "      <td>18.100000</td>\n",
              "      <td>0.000000</td>\n",
              "      <td>0.624000</td>\n",
              "      <td>6.623500</td>\n",
              "      <td>94.075000</td>\n",
              "      <td>5.188425</td>\n",
              "      <td>24.000000</td>\n",
              "      <td>666.000000</td>\n",
              "      <td>20.200000</td>\n",
              "      <td>396.225000</td>\n",
              "      <td>16.955000</td>\n",
              "    </tr>\n",
              "    <tr>\n",
              "      <th>max</th>\n",
              "      <td>88.976200</td>\n",
              "      <td>100.000000</td>\n",
              "      <td>27.740000</td>\n",
              "      <td>1.000000</td>\n",
              "      <td>0.871000</td>\n",
              "      <td>8.780000</td>\n",
              "      <td>100.000000</td>\n",
              "      <td>12.126500</td>\n",
              "      <td>24.000000</td>\n",
              "      <td>711.000000</td>\n",
              "      <td>22.000000</td>\n",
              "      <td>396.900000</td>\n",
              "      <td>37.970000</td>\n",
              "    </tr>\n",
              "  </tbody>\n",
              "</table>\n",
              "</div>"
            ],
            "text/plain": [
              "             CRIM          ZN       INDUS  ...     PTRATIO           B       LSTAT\n",
              "count  506.000000  506.000000  506.000000  ...  506.000000  506.000000  506.000000\n",
              "mean     3.613524   11.363636   11.136779  ...   18.455534  356.674032   12.653063\n",
              "std      8.601545   23.322453    6.860353  ...    2.164946   91.294864    7.141062\n",
              "min      0.006320    0.000000    0.460000  ...   12.600000    0.320000    1.730000\n",
              "25%      0.082045    0.000000    5.190000  ...   17.400000  375.377500    6.950000\n",
              "50%      0.256510    0.000000    9.690000  ...   19.050000  391.440000   11.360000\n",
              "75%      3.677083   12.500000   18.100000  ...   20.200000  396.225000   16.955000\n",
              "max     88.976200  100.000000   27.740000  ...   22.000000  396.900000   37.970000\n",
              "\n",
              "[8 rows x 13 columns]"
            ]
          },
          "metadata": {
            "tags": []
          },
          "execution_count": 4
        }
      ]
    },
    {
      "cell_type": "code",
      "metadata": {
        "colab": {
          "base_uri": "https://localhost:8080/"
        },
        "id": "vKcMUSVnyOMd",
        "outputId": "f2042c13-f612-45f1-a1aa-1999c90bf0a4"
      },
      "source": [
        "boston_X.shape\n"
      ],
      "execution_count": 5,
      "outputs": [
        {
          "output_type": "execute_result",
          "data": {
            "text/plain": [
              "(506, 13)"
            ]
          },
          "metadata": {
            "tags": []
          },
          "execution_count": 5
        }
      ]
    },
    {
      "cell_type": "code",
      "metadata": {
        "colab": {
          "base_uri": "https://localhost:8080/",
          "height": 1000
        },
        "id": "n3-8G-2AyRPX",
        "outputId": "287e27da-bd9b-459f-d20c-b22dc34be187"
      },
      "source": [
        "\"\"\"* For each feature, we can see the `count`, or number of data entries, the `mean` value, and the `standard deviation`, `min`, `max` and `quartile` values. \n",
        "* We can see that the range of values for each feature differs quite a lot, so we can start to think about whether to apply normalization to the data. \n",
        "* We can also see that the `CHAS` faeture is either a `(1,0)` value. If we look back at our description, we can see that this is an example of a `categorical` variable. These are values used to describe non-numeric data. In this case,  a `1` indicates the house borders near the river, and a `0` that it doesn't.\n",
        "\"\"\"\n",
        "\n",
        "# we can build on this analysis by plotting the distribution and boxplots for each column\n",
        "\n",
        "# we loop through all the columns\n",
        "for col in boston_X.columns:\n",
        "    # and for each column we create space for one row with 2 charts \n",
        "    f, axes = plt.subplots(1, 2, figsize=(12, 6))\n",
        "    # our first chart is a histogram and we set the title \n",
        "    boston_X[col].hist(bins = 30, ax = axes[0])\n",
        "    axes[0].set_title('Distribution of '+ col)\n",
        "    # our second column is the boxplot \n",
        "    boston_X.boxplot(column = col, ax = axes[1])\n",
        "    # we then use this to command to display the charts\n",
        "    plt.show()"
      ],
      "execution_count": 6,
      "outputs": [
        {
          "output_type": "display_data",
          "data": {
            "image/png": "[encoded data removed]",
            "text/plain": [
              "<Figure size 864x432 with 2 Axes>"
            ]
          },
          "metadata": {
            "tags": [],
            "needs_background": "light"
          }
        },
        {
          "output_type": "display_data",
          "data": {
            "image/png": "[encoded data removed]",
            "text/plain": [
              "<Figure size 864x432 with 2 Axes>"
            ]
          },
          "metadata": {
            "tags": [],
            "needs_background": "light"
          }
        },
        {
          "output_type": "display_data",
          "data": {
            "image/png": "[encoded data removed]",
            "text/plain": [
              "<Figure size 864x432 with 2 Axes>"
            ]
          },
          "metadata": {
            "tags": [],
            "needs_background": "light"
          }
        },
        {
          "output_type": "display_data",
          "data": {
            "image/png": "[encoded data removed]",
            "text/plain": [
              "<Figure size 864x432 with 2 Axes>"
            ]
          },
          "metadata": {
            "tags": [],
            "needs_background": "light"
          }
        },
        {
          "output_type": "display_data",
          "data": {
            "image/png": "[encoded data removed]",
            "text/plain": [
              "<Figure size 864x432 with 2 Axes>"
            ]
          },
          "metadata": {
            "tags": [],
            "needs_background": "light"
          }
        },
        {
          "output_type": "display_data",
          "data": {
            "image/png": "[encoded data removed]",
            "text/plain": [
              "<Figure size 864x432 with 2 Axes>"
            ]
          },
          "metadata": {
            "tags": [],
            "needs_background": "light"
          }
        },
        {
          "output_type": "display_data",
          "data": {
            "image/png": "[encoded data removed]",
            "text/plain": [
              "<Figure size 864x432 with 2 Axes>"
            ]
          },
          "metadata": {
            "tags": [],
            "needs_background": "light"
          }
        },
        {
          "output_type": "display_data",
          "data": {
            "image/png": "[encoded data removed]",
            "text/plain": [
              "<Figure size 864x432 with 2 Axes>"
            ]
          },
          "metadata": {
            "tags": [],
            "needs_background": "light"
          }
        },
        {
          "output_type": "display_data",
          "data": {
            "image/png": "[encoded data removed]",
            "text/plain": [
              "<Figure size 864x432 with 2 Axes>"
            ]
          },
          "metadata": {
            "tags": [],
            "needs_background": "light"
          }
        },
        {
          "output_type": "display_data",
          "data": {
            "image/png": "[encoded data removed]",
            "text/plain": [
              "<Figure size 864x432 with 2 Axes>"
            ]
          },
          "metadata": {
            "tags": [],
            "needs_background": "light"
          }
        },
        {
          "output_type": "display_data",
          "data": {
            "image/png": "[encoded data removed]",
            "text/plain": [
              "<Figure size 864x432 with 2 Axes>"
            ]
          },
          "metadata": {
            "tags": [],
            "needs_background": "light"
          }
        },
        {
          "output_type": "display_data",
          "data": {
            "image/png": "[encoded data removed]",
            "text/plain": [
              "<Figure size 864x432 with 2 Axes>"
            ]
          },
          "metadata": {
            "tags": [],
            "needs_background": "light"
          }
        },
        {
          "output_type": "display_data",
          "data": {
            "image/png": "[encoded data removed]",
            "text/plain": [
              "<Figure size 864x432 with 2 Axes>"
            ]
          },
          "metadata": {
            "tags": [],
            "needs_background": "light"
          }
        }
      ]
    },
    {
      "cell_type": "code",
      "metadata": {
        "colab": {
          "base_uri": "https://localhost:8080/",
          "height": 281
        },
        "id": "iZjMsLFYybKv",
        "outputId": "f643ea4a-a166-4179-a2fa-4849f5929ae1"
      },
      "source": [
        "\"\"\"* A `histogram` tells is the number of times, or frequency, a value occurs within a `bin`, or bucket, that splits the data (and which we defined). A histogram shows the frequency with which values occur within each of these bins, and can tell us about the distribution of data. \n",
        "* A `boxplot` captures within the box the `interquartile range`, the range of values from Q1/25th percentile to Q3/75th percentile, and the median value. It also captures the `min` and `max` values of each feature.\n",
        "* Together, these charts show us the distribution of values for each feature. We can start to make judgements about how to treat the data, for example whether we want to deal with outliers; or whether we want to normalize the data.\n",
        "\"\"\"\n",
        "\n",
        "# we can now look at our target variable \n",
        "boston_y = boston.target\n",
        "# we can plot a histogram in a slightly different way \n",
        "plt.hist(boston_y, bins = 40)\n",
        "plt.title('Housing price distribution, $K')\n",
        "plt.show()"
      ],
      "execution_count": 7,
      "outputs": [
        {
          "output_type": "display_data",
          "data": {
            "image/png": "[encoded data removed]",
            "text/plain": [
              "<Figure size 432x288 with 1 Axes>"
            ]
          },
          "metadata": {
            "tags": [],
            "needs_background": "light"
          }
        }
      ]
    },
    {
      "cell_type": "code",
      "metadata": {
        "colab": {
          "base_uri": "https://localhost:8080/",
          "height": 281
        },
        "id": "TpnV8wfFyfV8",
        "outputId": "e4cd977b-b335-4a85-a668-c642983416f9"
      },
      "source": [
        "# and the same for the boxplot\n",
        "plt.boxplot(boston_y)\n",
        "plt.title('Box plot for housing price')\n",
        "plt.show()"
      ],
      "execution_count": 8,
      "outputs": [
        {
          "output_type": "display_data",
          "data": {
            "image/png": "[encoded data removed]",
            "text/plain": [
              "<Figure size 432x288 with 1 Axes>"
            ]
          },
          "metadata": {
            "tags": [],
            "needs_background": "light"
          }
        }
      ]
    },
    {
      "cell_type": "code",
      "metadata": {
        "colab": {
          "base_uri": "https://localhost:8080/",
          "height": 361
        },
        "id": "1_KUjJrEyjde",
        "outputId": "42faf485-d7fa-4a1f-9537-51dca0a83b84"
      },
      "source": [
        "# another thing we can do is plot a boxplot of one variable against the target variable \n",
        "# it is interesting to see how house value distribution differs by CHAS, the categorical variable \n",
        "\n",
        "# here we create a grouped dataframe that includes the target variable\n",
        "grouped_df = boston_X.copy()   # note we create a copy of the data here so that any changes don't impact the original data\n",
        "grouped_df['target'] = boston_y.copy()\n",
        "grouped_df.head()\n",
        "\n",
        "# we then plot it here\n",
        "f, axes = plt.subplots(1, 1, figsize=(10, 5))   \n",
        "grouped_df.boxplot(column='target', by = 'CHAS', ax = axes)\n",
        "plt.show()\n",
        "\n",
        "\n",
        "#The `interquartile range`for houses next to the river is higher than for those houses not next to the river, and the `min` and `max` values differ too.\n",
        "\n",
        "#This suggests this could be an important variable for us to include in our model, given that as it differs, the target value distribution changes."
      ],
      "execution_count": 9,
      "outputs": [
        {
          "output_type": "display_data",
          "data": {
            "image/png": "[encoded data removed]",
            "text/plain": [
              "<Figure size 720x360 with 1 Axes>"
            ]
          },
          "metadata": {
            "tags": [],
            "needs_background": "light"
          }
        }
      ]
    },
    {
      "cell_type": "code",
      "metadata": {
        "colab": {
          "base_uri": "https://localhost:8080/"
        },
        "id": "bHse2ydmyn2s",
        "outputId": "b960c41c-83e6-4e2f-d103-bb4cd9b7b8f9"
      },
      "source": [
        "# Process the data.\n",
        "# check missing data\n",
        "boston_X.isnull().values.any()"
      ],
      "execution_count": 10,
      "outputs": [
        {
          "output_type": "execute_result",
          "data": {
            "text/plain": [
              "False"
            ]
          },
          "metadata": {
            "tags": []
          },
          "execution_count": 10
        }
      ]
    },
    {
      "cell_type": "code",
      "metadata": {
        "id": "MYKbo5j5ys02"
      },
      "source": [
        "# removing outliers\n",
        "\n",
        "# define the columns where we have identified there could be otliers\n",
        "numeric_column = ['CRIM','ZN','INDUS','NOX','RM','AGE','DIS','RAD','TAX','PTRATIO','B','LSTAT']\n",
        "# define a function to return a list of index values for outliers\n",
        "def get_outliers(data,columns):\n",
        "    outlier_idxs = []\n",
        "    for col in columns:\n",
        "        elements = data[col]\n",
        "        mean = elements.mean()\n",
        "        sd = elements.std()\n",
        "        outliers_mask = data[(data[col] > mean+3*sd) | (data[col] <mean-3*sd)].index\n",
        "        outlier_idxs += [x for x in outliers_mask]\n",
        "        return list(set(outlier_idxs))\n",
        "    \n",
        "# call the function to get the outliers\n",
        "boston_outliers = get_outliers(boston_X,numeric_column)\n",
        "\n",
        "# drop the outliers\n",
        "boston_X = boston_X.drop(boston_outliers, axis=0)\n",
        "boston_y = pd.DataFrame(boston_y).drop(boston_outliers,axis=0).values.ravel()"
      ],
      "execution_count": 11,
      "outputs": []
    },
    {
      "cell_type": "code",
      "metadata": {
        "colab": {
          "base_uri": "https://localhost:8080/",
          "height": 359
        },
        "id": "vE7LRs-wywT8",
        "outputId": "15a29814-390d-44a4-83ec-0d39c182cc08"
      },
      "source": [
        "# this function loops through columns in a data set and defines a predefined scaler to each\n",
        "def scale_numeric(data, numeric_column, scaler):\n",
        "    for col in numeric_column:\n",
        "        data[col] = scaler.fit_transform(data[col].values.reshape(-1, 1))\n",
        "    return data\n",
        "\n",
        "# we can now define the scaler we want to use and apply it to our dataset \n",
        "\n",
        "# a good exercise would be to research waht StandardScaler does - it is from the scikit learn library \n",
        "scaler = StandardScaler()\n",
        "boston_X = scale_numeric(boston_X, numeric_column, scaler)\n",
        "\n",
        "# here we can see the result \n",
        "boston_X[0:10]"
      ],
      "execution_count": 12,
      "outputs": [
        {
          "output_type": "execute_result",
          "data": {
            "text/html": [
              "<div>\n",
              "<style scoped>\n",
              "    .dataframe tbody tr th:only-of-type {\n",
              "        vertical-align: middle;\n",
              "    }\n",
              "\n",
              "    .dataframe tbody tr th {\n",
              "        vertical-align: top;\n",
              "    }\n",
              "\n",
              "    .dataframe thead th {\n",
              "        text-align: right;\n",
              "    }\n",
              "</style>\n",
              "<table border=\"1\" class=\"dataframe\">\n",
              "  <thead>\n",
              "    <tr style=\"text-align: right;\">\n",
              "      <th></th>\n",
              "      <th>CRIM</th>\n",
              "      <th>ZN</th>\n",
              "      <th>INDUS</th>\n",
              "      <th>CHAS</th>\n",
              "      <th>NOX</th>\n",
              "      <th>RM</th>\n",
              "      <th>AGE</th>\n",
              "      <th>DIS</th>\n",
              "      <th>RAD</th>\n",
              "      <th>TAX</th>\n",
              "      <th>PTRATIO</th>\n",
              "      <th>B</th>\n",
              "      <th>LSTAT</th>\n",
              "    </tr>\n",
              "  </thead>\n",
              "  <tbody>\n",
              "    <tr>\n",
              "      <th>0</th>\n",
              "      <td>-0.545324</td>\n",
              "      <td>0.275323</td>\n",
              "      <td>-1.272087</td>\n",
              "      <td>0.0</td>\n",
              "      <td>-0.127724</td>\n",
              "      <td>0.403029</td>\n",
              "      <td>-0.105154</td>\n",
              "      <td>0.123460</td>\n",
              "      <td>-0.970320</td>\n",
              "      <td>-0.649259</td>\n",
              "      <td>-1.442122</td>\n",
              "      <td>0.433966</td>\n",
              "      <td>-1.073299</td>\n",
              "    </tr>\n",
              "    <tr>\n",
              "      <th>1</th>\n",
              "      <td>-0.541195</td>\n",
              "      <td>-0.492566</td>\n",
              "      <td>-0.577286</td>\n",
              "      <td>0.0</td>\n",
              "      <td>-0.724546</td>\n",
              "      <td>0.182871</td>\n",
              "      <td>0.381796</td>\n",
              "      <td>0.540837</td>\n",
              "      <td>-0.853657</td>\n",
              "      <td>-0.973599</td>\n",
              "      <td>-0.289350</td>\n",
              "      <td>0.433966</td>\n",
              "      <td>-0.479093</td>\n",
              "    </tr>\n",
              "    <tr>\n",
              "      <th>2</th>\n",
              "      <td>-0.541199</td>\n",
              "      <td>-0.492566</td>\n",
              "      <td>-0.577286</td>\n",
              "      <td>0.0</td>\n",
              "      <td>-0.724546</td>\n",
              "      <td>1.275084</td>\n",
              "      <td>-0.250883</td>\n",
              "      <td>0.540837</td>\n",
              "      <td>-0.853657</td>\n",
              "      <td>-0.973599</td>\n",
              "      <td>-0.289350</td>\n",
              "      <td>0.387213</td>\n",
              "      <td>-1.208995</td>\n",
              "    </tr>\n",
              "    <tr>\n",
              "      <th>3</th>\n",
              "      <td>-0.540200</td>\n",
              "      <td>-0.492566</td>\n",
              "      <td>-1.291063</td>\n",
              "      <td>0.0</td>\n",
              "      <td>-0.819692</td>\n",
              "      <td>1.007749</td>\n",
              "      <td>-0.794703</td>\n",
              "      <td>1.061951</td>\n",
              "      <td>-0.736993</td>\n",
              "      <td>-1.093725</td>\n",
              "      <td>0.125647</td>\n",
              "      <td>0.407890</td>\n",
              "      <td>-1.364689</td>\n",
              "    </tr>\n",
              "    <tr>\n",
              "      <th>4</th>\n",
              "      <td>-0.532984</td>\n",
              "      <td>-0.492566</td>\n",
              "      <td>-1.291063</td>\n",
              "      <td>0.0</td>\n",
              "      <td>-0.819692</td>\n",
              "      <td>1.220759</td>\n",
              "      <td>-0.496135</td>\n",
              "      <td>1.061951</td>\n",
              "      <td>-0.736993</td>\n",
              "      <td>-1.093725</td>\n",
              "      <td>0.125647</td>\n",
              "      <td>0.433966</td>\n",
              "      <td>-1.023306</td>\n",
              "    </tr>\n",
              "    <tr>\n",
              "      <th>5</th>\n",
              "      <td>-0.540695</td>\n",
              "      <td>-0.492566</td>\n",
              "      <td>-1.291063</td>\n",
              "      <td>0.0</td>\n",
              "      <td>-0.819692</td>\n",
              "      <td>0.195737</td>\n",
              "      <td>-0.336188</td>\n",
              "      <td>1.061951</td>\n",
              "      <td>-0.736993</td>\n",
              "      <td>-1.093725</td>\n",
              "      <td>0.125647</td>\n",
              "      <td>0.402031</td>\n",
              "      <td>-1.040446</td>\n",
              "    </tr>\n",
              "    <tr>\n",
              "      <th>6</th>\n",
              "      <td>-0.529198</td>\n",
              "      <td>0.040690</td>\n",
              "      <td>-0.460513</td>\n",
              "      <td>0.0</td>\n",
              "      <td>-0.248818</td>\n",
              "      <td>-0.401835</td>\n",
              "      <td>-0.055393</td>\n",
              "      <td>0.823212</td>\n",
              "      <td>-0.503667</td>\n",
              "      <td>-0.559165</td>\n",
              "      <td>-1.488233</td>\n",
              "      <td>0.419032</td>\n",
              "      <td>-0.009155</td>\n",
              "    </tr>\n",
              "    <tr>\n",
              "      <th>7</th>\n",
              "      <td>-0.518131</td>\n",
              "      <td>0.040690</td>\n",
              "      <td>-0.460513</td>\n",
              "      <td>0.0</td>\n",
              "      <td>-0.248818</td>\n",
              "      <td>-0.173099</td>\n",
              "      <td>0.993148</td>\n",
              "      <td>1.008797</td>\n",
              "      <td>-0.503667</td>\n",
              "      <td>-0.559165</td>\n",
              "      <td>-1.488233</td>\n",
              "      <td>0.433966</td>\n",
              "      <td>0.950716</td>\n",
              "    </tr>\n",
              "    <tr>\n",
              "      <th>8</th>\n",
              "      <td>-0.505011</td>\n",
              "      <td>0.040690</td>\n",
              "      <td>-0.460513</td>\n",
              "      <td>0.0</td>\n",
              "      <td>-0.248818</td>\n",
              "      <td>-0.946512</td>\n",
              "      <td>1.131769</td>\n",
              "      <td>1.071420</td>\n",
              "      <td>-0.503667</td>\n",
              "      <td>-0.559165</td>\n",
              "      <td>-1.488233</td>\n",
              "      <td>0.315992</td>\n",
              "      <td>2.490511</td>\n",
              "    </tr>\n",
              "    <tr>\n",
              "      <th>9</th>\n",
              "      <td>-0.513116</td>\n",
              "      <td>0.040690</td>\n",
              "      <td>-0.460513</td>\n",
              "      <td>0.0</td>\n",
              "      <td>-0.248818</td>\n",
              "      <td>-0.413272</td>\n",
              "      <td>0.630602</td>\n",
              "      <td>1.314109</td>\n",
              "      <td>-0.503667</td>\n",
              "      <td>-0.559165</td>\n",
              "      <td>-1.488233</td>\n",
              "      <td>0.316911</td>\n",
              "      <td>0.657898</td>\n",
              "    </tr>\n",
              "  </tbody>\n",
              "</table>\n",
              "</div>"
            ],
            "text/plain": [
              "       CRIM        ZN     INDUS  CHAS  ...       TAX   PTRATIO         B     LSTAT\n",
              "0 -0.545324  0.275323 -1.272087   0.0  ... -0.649259 -1.442122  0.433966 -1.073299\n",
              "1 -0.541195 -0.492566 -0.577286   0.0  ... -0.973599 -0.289350  0.433966 -0.479093\n",
              "2 -0.541199 -0.492566 -0.577286   0.0  ... -0.973599 -0.289350  0.387213 -1.208995\n",
              "3 -0.540200 -0.492566 -1.291063   0.0  ... -1.093725  0.125647  0.407890 -1.364689\n",
              "4 -0.532984 -0.492566 -1.291063   0.0  ... -1.093725  0.125647  0.433966 -1.023306\n",
              "5 -0.540695 -0.492566 -1.291063   0.0  ... -1.093725  0.125647  0.402031 -1.040446\n",
              "6 -0.529198  0.040690 -0.460513   0.0  ... -0.559165 -1.488233  0.419032 -0.009155\n",
              "7 -0.518131  0.040690 -0.460513   0.0  ... -0.559165 -1.488233  0.433966  0.950716\n",
              "8 -0.505011  0.040690 -0.460513   0.0  ... -0.559165 -1.488233  0.315992  2.490511\n",
              "9 -0.513116  0.040690 -0.460513   0.0  ... -0.559165 -1.488233  0.316911  0.657898\n",
              "\n",
              "[10 rows x 13 columns]"
            ]
          },
          "metadata": {
            "tags": []
          },
          "execution_count": 12
        }
      ]
    },
    {
      "cell_type": "code",
      "metadata": {
        "colab": {
          "base_uri": "https://localhost:8080/"
        },
        "id": "5GRtdwVNy1QY",
        "outputId": "b39957eb-d6d1-4465-e078-1d16a497c118"
      },
      "source": [
        "\"\"\"###  : Split the data\n",
        "* In order to train our model and see how well it performs, we need to split our data into training and testing sets.\n",
        "* We can then train our model on the training set, and test how well it has generalised to the data on the test set.\n",
        "* There are a number of options for how we can split the data, and for what proportion of our original data we set aside for the test set.\n",
        "\"\"\"\n",
        "\n",
        "# a common way for splitting our dataset is using train_test_split \n",
        "\n",
        "# as an exercise, go to the scikit learn documentation to learn more about this function and the parameters available \n",
        "X_train, X_test, Y_train, Y_test = model_selection.train_test_split(boston_X, boston_y, test_size = 0.2, random_state = 5)\n",
        "\n",
        "# get shape of test and training sets\n",
        "print('Training Set:')\n",
        "print('Number of datapoints: ', X_train.shape[0])\n",
        "print('Number of features: ', X_train.shape[1])\n",
        "print('\\n')\n",
        "print('Test Set:')\n",
        "print('Number of datapoints: ', X_test.shape[0])\n",
        "print('Number of features: ', X_test.shape[1])"
      ],
      "execution_count": 13,
      "outputs": [
        {
          "output_type": "stream",
          "text": [
            "Training Set:\n",
            "Number of datapoints:  398\n",
            "Number of features:  13\n",
            "\n",
            "\n",
            "Test Set:\n",
            "Number of datapoints:  100\n",
            "Number of features:  13\n"
          ],
          "name": "stdout"
        }
      ]
    },
    {
      "cell_type": "code",
      "metadata": {
        "id": "n-s2kGtBy5KH"
      },
      "source": [
        "\"\"\"###  Choose a Baseline algorithm\n",
        "# linear regression is a fairly simple algorithm compared to more complicate regression options, so provides a good baseline\n",
        "\"\"\"\n",
        "### Train and Test the Model\"\"\"\n",
        "\n",
        "lm = LinearRegression()\n",
        "\n",
        "# fitting the model to the data means to train our model on the data\n",
        "# the fit function takes both the X and y variables of the training data \n",
        "lm.fit(X_train, Y_train)\n",
        "\n",
        "# from this, we can generate a set of predictions on our unseen features, X_test\n",
        "Y_pred = lm.predict(X_test)"
      ],
      "execution_count": 14,
      "outputs": []
    },
    {
      "cell_type": "code",
      "metadata": {
        "colab": {
          "base_uri": "https://localhost:8080/",
          "height": 373
        },
        "id": "Z_dVJWgey676",
        "outputId": "51506c3e-6dff-491d-935a-88e0cc0214d6"
      },
      "source": [
        "def evaluate(Y_test, Y_pred):\n",
        "    # this block of code returns all the metrics we are interested in \n",
        "    mse = metrics.mean_squared_error(Y_test, Y_pred)\n",
        "    msa = metrics.mean_absolute_error(Y_test, Y_pred)\n",
        "    r2 = metrics.r2_score(Y_test, Y_pred)\n",
        "\n",
        "    print(\"Mean squared error: \", mse)\n",
        "    print(\"Mean absolute error: \", msa)\n",
        "    print(\"R^2 : \", r2)\n",
        "    \n",
        "    # this creates a chart plotting predicted and actual \n",
        "    plt.scatter(Y_test, Y_pred)\n",
        "    plt.xlabel(\"Prices: $Y_i$\")\n",
        "    plt.ylabel(\"Predicted prices: $\\hat{Y}_i$\")\n",
        "    plt.title(\"Prices vs Predicted prices: $Y_i$ vs $\\hat{Y}_i$\")\n",
        "\n",
        "evaluate(Y_test, Y_pred)\n",
        "\n",
        "# we can explore how metrics are dervied in a little more detail by looking at MAE\n",
        "# here we will implement MAE using numpy, building it up step by step\n",
        "\n",
        "# with MAE, we get the absolute values of the error - as you can see this is of the difference between the actual and predicted values\n",
        "np.abs(Y_test - Y_pred)\n",
        "\n",
        "# we will then sum them up \n",
        "np.sum(np.abs(Y_test - Y_pred))\n",
        "\n",
        "# then divide by the total number of predictions/actual values\n",
        "# as you will see, we get to the same score implemented above \n",
        "np.sum(np.abs(Y_test - Y_pred))/len(Y_test)"
      ],
      "execution_count": 15,
      "outputs": [
        {
          "output_type": "stream",
          "text": [
            "Mean squared error:  17.720796161219063\n",
            "Mean absolute error:  3.2042529984513326\n",
            "R^2 :  0.7373479871767092\n"
          ],
          "name": "stdout"
        },
        {
          "output_type": "execute_result",
          "data": {
            "text/plain": [
              "3.2042529984513326"
            ]
          },
          "metadata": {
            "tags": []
          },
          "execution_count": 15
        },
        {
          "output_type": "display_data",
          "data": {
            "image/png": "[encoded data removed]",
            "text/plain": [
              "<Figure size 432x288 with 1 Axes>"
            ]
          },
          "metadata": {
            "tags": [],
            "needs_background": "light"
          }
        }
      ]
    },
    {
      "cell_type": "code",
      "metadata": {
        "colab": {
          "base_uri": "https://localhost:8080/"
        },
        "id": "TOw_Utq1y_4b",
        "outputId": "a99deb25-db11-4f16-a665-30375449e16b"
      },
      "source": [
        "\"\"\"### : Refine our dataset\n",
        "* This step allows us to add or modify features of the datatset. We might do this if, for example, some combination of features better represents the problems space and so is an indicator of the target variable. \n",
        "* Here, we create one additional feature as an example, but you should reflect on our EDA earlier and see whether there are other features that can be added to our dataset.\n",
        "\"\"\"\n",
        "\n",
        "# here we are using pandas functionality to add a new column called LSTAT_2, which will feature values that are the square of LSTAT values\n",
        "boston_X['LSTAT_2'] = boston_X['LSTAT'].map(lambda x: x**2)\n",
        "\n",
        "# we can run our train_test_split function and see that we have an additional features\n",
        "X_train, X_test, Y_train, Y_test = model_selection.train_test_split(boston_X, boston_y, test_size = 0.2, random_state = 5)\n",
        "\n",
        "print('Number of features after dataset refinement: ', X_train.shape[1])"
      ],
      "execution_count": 16,
      "outputs": [
        {
          "output_type": "stream",
          "text": [
            "Number of features after dataset refinement:  14\n"
          ],
          "name": "stdout"
        }
      ]
    },
    {
      "cell_type": "code",
      "metadata": {
        "colab": {
          "base_uri": "https://localhost:8080/",
          "height": 356
        },
        "id": "a1zq7pObzE9G",
        "outputId": "cc2f9809-d79e-4e98-a307-d8ac1267e109"
      },
      "source": [
        "# we can now run the same code as before on our refined dataset to see if things have improved \n",
        "lm.fit(X_train, Y_train)\n",
        "\n",
        "Y_pred = lm.predict(X_test)\n",
        "\n",
        "evaluate(Y_test, Y_pred)"
      ],
      "execution_count": 17,
      "outputs": [
        {
          "output_type": "stream",
          "text": [
            "Mean squared error:  10.493660894877262\n",
            "Mean absolute error:  2.6599783296605684\n",
            "R^2 :  0.8444662908568233\n"
          ],
          "name": "stdout"
        },
        {
          "output_type": "display_data",
          "data": {
            "image/png": "[encoded data removed]",
            "text/plain": [
              "<Figure size 432x288 with 1 Axes>"
            ]
          },
          "metadata": {
            "tags": [],
            "needs_background": "light"
          }
        }
      ]
    }
  ]
}