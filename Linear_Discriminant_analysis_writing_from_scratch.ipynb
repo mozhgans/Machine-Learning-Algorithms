{
  "nbformat": 4,
  "nbformat_minor": 0,
  "metadata": {
    "colab": {
      "name": "Linear Discriminant analysis_writing from scratch.ipynb",
      "provenance": [],
      "authorship_tag": "ABX9TyPvQgVfMBvc8CMvPBjnw8yy",
      "include_colab_link": true
    },
    "kernelspec": {
      "name": "python3",
      "display_name": "Python 3"
    }
  },
  "cells": [
    {
      "cell_type": "markdown",
      "metadata": {
        "id": "view-in-github",
        "colab_type": "text"
      },
      "source": [
        "<a href=\"https://colab.research.google.com/github/mozhgans/Machine-Learning-Algorithms/blob/main/Linear_Discriminant_analysis_writing_from_scratch.ipynb\" target=\"_parent\"><img src=\"https://colab.research.google.com/assets/colab-badge.svg\" alt=\"Open In Colab\"/></a>"
      ]
    },
    {
      "cell_type": "markdown",
      "metadata": {
        "id": "aThazGPz5oem"
      },
      "source": [
        "### Linear discriminant analysis\n",
        "### self-developed code from scratch"
      ]
    },
    {
      "cell_type": "code",
      "metadata": {
        "id": "3Y4GPpYM5cJP"
      },
      "source": [
        "# import library\n",
        "import pandas as pd\n",
        "import numpy as np\n",
        "from matplotlib import pyplot as plt\n",
        "import seaborn as sns"
      ],
      "execution_count": 1,
      "outputs": []
    },
    {
      "cell_type": "code",
      "metadata": {
        "colab": {
          "base_uri": "https://localhost:8080/",
          "height": 315
        },
        "id": "ANz1cgc15tz7",
        "outputId": "0ba41f45-36f2-4a04-84d2-a57886b7a0fa"
      },
      "source": [
        "# generate two classes of data\n",
        "X1 = np.random.normal(5,1,20)\n",
        "X2 = np.random.normal(20,1,20)\n",
        "print(type(X1))\n",
        "y1 = np.zeros(20)\n",
        "y2 = np.ones(20)\n",
        "plt.scatter(X1, y1, color = 'blue')\n",
        "plt.scatter(X2, y2, color = 'red')\n",
        "plt.title('Distribution of data')"
      ],
      "execution_count": 2,
      "outputs": [
        {
          "output_type": "stream",
          "text": [
            "<class 'numpy.ndarray'>\n"
          ],
          "name": "stdout"
        },
        {
          "output_type": "execute_result",
          "data": {
            "text/plain": [
              "Text(0.5, 1.0, 'Distribution of data')"
            ]
          },
          "metadata": {
            "tags": []
          },
          "execution_count": 2
        },
        {
          "output_type": "display_data",
          "data": {
            "image/png": "[encoded data removed]",
            "text/plain": [
              "<Figure size 432x288 with 1 Axes>"
            ]
          },
          "metadata": {
            "tags": [],
            "needs_background": "light"
          }
        }
      ]
    },
    {
      "cell_type": "code",
      "metadata": {
        "colab": {
          "base_uri": "https://localhost:8080/"
        },
        "id": "O3lm5RS-5t6E",
        "outputId": "2fc51956-6e11-4eb1-e09a-b71e02a374d4"
      },
      "source": [
        "# Calculate the means for each class \n",
        "mean_X1 = np.mean(X1)\n",
        "mean_X2 = np.mean(X2)\n",
        "print(mean_X1)\n",
        "print(mean_X2)"
      ],
      "execution_count": 3,
      "outputs": [
        {
          "output_type": "stream",
          "text": [
            "5.274710791888478\n",
            "20.05683443501737\n"
          ],
          "name": "stdout"
        }
      ]
    },
    {
      "cell_type": "code",
      "metadata": {
        "id": "iKk40he_5t9G"
      },
      "source": [
        "# calculate the class probabilities\n",
        "p_y1 = (len(y1)/(len(y1)+len(y2)))\n",
        "p_y2 = (len(y2)/(len(y1)+len(y2)))"
      ],
      "execution_count": 4,
      "outputs": []
    },
    {
      "cell_type": "code",
      "metadata": {
        "colab": {
          "base_uri": "https://localhost:8080/"
        },
        "id": "q_mHR8UP55Zq",
        "outputId": "d55ee818-78cf-4400-b70f-66137f716e46"
      },
      "source": [
        "# Calculate the variance\n",
        "Var_X1 = np.sum(np.square(X1-mean_X1))\n",
        "Var_X2 = np.sum(np.square(X2-mean_X2))\n",
        "print(Var_X1)\n",
        "print(Var_X2)\n",
        "Var = 1/(40-2)*(Var_X1 + Var_X2)"
      ],
      "execution_count": 5,
      "outputs": [
        {
          "output_type": "stream",
          "text": [
            "20.930924231756517\n",
            "14.3389186090076\n"
          ],
          "name": "stdout"
        }
      ]
    },
    {
      "cell_type": "code",
      "metadata": {
        "colab": {
          "base_uri": "https://localhost:8080/"
        },
        "id": "ZvvYVIgP5-tp",
        "outputId": "f7c2edc5-63f9-4b10-b120-c75548effcbc"
      },
      "source": [
        "# Discriminant_x = x * mean/VAR - mean^2/(2*VAR) +ln(p)\n",
        "Discriminant_y1_X1 = X1*mean_X1/Var - np.square(mean_X1)/2/Var + np.log(p_y1)\n",
        "Discriminant_y2_X1 = X1*mean_X2/Var - np.square(mean_X2)/2/Var + np.log(p_y2)\n",
        "prediction = Discriminant_y1_X1-Discriminant_y2_X1>0\n",
        "print(prediction)\n",
        "Discriminant_y1_X2 = X2*mean_X1/Var - np.square(mean_X1)/2/Var + np.log(p_y1)\n",
        "Discriminant_y2_X2 = X2*mean_X2/Var - np.square(mean_X2)/2/Var + np.log(p_y2)\n",
        "prediction1 = Discriminant_y1_X2-Discriminant_y2_X2>0\n",
        "print(prediction1)"
      ],
      "execution_count": 6,
      "outputs": [
        {
          "output_type": "stream",
          "text": [
            "[ True  True  True  True  True  True  True  True  True  True  True  True\n",
            "  True  True  True  True  True  True  True  True]\n",
            "[False False False False False False False False False False False False\n",
            " False False False False False False False False]\n"
          ],
          "name": "stdout"
        }
      ]
    },
    {
      "cell_type": "code",
      "metadata": {
        "id": "xNsGaW9h6Cmf",
        "outputId": "cc49327f-75c1-4f72-983a-5e9432b47c09",
        "colab": {
          "base_uri": "https://localhost:8080/"
        }
      },
      "source": [
        "#prediction\n",
        "x = 1\n",
        "Discriminant_y1_x = x*mean_X1/Var - np.square(mean_X1)/2/Var + np.log(p_y1)\n",
        "Discriminant_y2_x = x*mean_X2/Var - np.square(mean_X2)/2/Var + np.log(p_y2)\n",
        "prediction2 = Discriminant_y1_x-Discriminant_y2_x>0\n",
        "print(prediction2) # so x=1 is predicted as y=0"
      ],
      "execution_count": 7,
      "outputs": [
        {
          "output_type": "stream",
          "text": [
            "True\n"
          ],
          "name": "stdout"
        }
      ]
    }
  ]
}