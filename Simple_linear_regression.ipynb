{
  "nbformat": 4,
  "nbformat_minor": 0,
  "metadata": {
    "colab": {
      "name": "Simple linear regression.ipynb",
      "provenance": [],
      "authorship_tag": "ABX9TyMF1lGrop0hhPx/YWT4pkhp",
      "include_colab_link": true
    },
    "kernelspec": {
      "name": "python3",
      "display_name": "Python 3"
    }
  },
  "cells": [
    {
      "cell_type": "markdown",
      "metadata": {
        "id": "view-in-github",
        "colab_type": "text"
      },
      "source": [
        "<a href=\"https://colab.research.google.com/github/mozhgans/Machine-Learning-Algorithms/blob/main/Simple_linear_regression.ipynb\" target=\"_parent\"><img src=\"https://colab.research.google.com/assets/colab-badge.svg\" alt=\"Open In Colab\"/></a>"
      ]
    },
    {
      "cell_type": "markdown",
      "metadata": {
        "id": "z1nTIPA4MdS3"
      },
      "source": [
        "# Chapter 11 Simple Linear regression\n",
        "# We can calculate the corfficients from the samples directly\n",
        "# representation: y = B0 + B1*X\n",
        "# B1 = sum((Xi - mean(X))*(Yi - mean(Y)))/sum((Xi-mean(X))^2)\n",
        "# B0 = mean(Y) - B1*mean(X)"
      ]
    },
    {
      "cell_type": "code",
      "metadata": {
        "id": "Y7WZpwSTMTHJ"
      },
      "source": [
        "# import the libraries\n",
        "import numpy as np\n",
        "import pandas as pd\n",
        "import matplotlib.pyplot as plt\n",
        "%matplotlib inline"
      ],
      "execution_count": 1,
      "outputs": []
    },
    {
      "cell_type": "code",
      "metadata": {
        "id": "mqMBXCk3MnJa"
      },
      "source": [
        "# import data\n",
        "dataset = pd.read_csv('D:\\zou hua notebook back up\\Documents\\TAMU\\DS_projects\\salary_data.csv')\n",
        "X = dataset.iloc[:,0].values\n",
        "y = dataset.iloc[:,1].values\n",
        "print(type(X))\n",
        "print(type(y))"
      ],
      "execution_count": null,
      "outputs": []
    },
    {
      "cell_type": "code",
      "metadata": {
        "id": "z6OVH9UCMvT_"
      },
      "source": [
        "# Calculate coefficient for simple linear regression\n",
        "mean_X = np.mean(X)\n",
        "mean_y = np.mean(y)\n",
        "difference_X = X[:]-mean_X\n",
        "difference_y = y[:]-mean_y\n",
        "#print(difference_X)\n",
        "#print(difference_y)\n",
        "#print(type(difference_y))\n",
        "#print(difference_X.shape)\n",
        "#print(difference_y.shape)\n",
        "B1 = np.sum(np.multiply(difference_X,difference_y))/np.sum(difference_X*difference_X)\n",
        "B0 = mean_y - B1*mean_X\n",
        "y1 = B0 + B1*X"
      ],
      "execution_count": null,
      "outputs": []
    },
    {
      "cell_type": "code",
      "metadata": {
        "id": "32HHaSGJM0ZG"
      },
      "source": [
        "# visualizaing the calculated results\n",
        "viz_train = plt\n",
        "viz_train.scatter(X, y, color=\"red\")\n",
        "viz_train.plot(X,y1 , color='blue')\n",
        "viz_train.title('Salary vs Experience')\n",
        "viz_train.xlabel('Year of Experience')\n",
        "viz_train.ylabel('Salary')\n",
        "viz_train.show()"
      ],
      "execution_count": null,
      "outputs": []
    },
    {
      "cell_type": "code",
      "metadata": {
        "id": "ZHr6sDewMvWK"
      },
      "source": [
        "# Calculate coefficients using correlation and standard deviation\n",
        "corr = np.corrcoef(X,y,rowvar=1)\n",
        "stdev_x = np.std(X)\n",
        "stdev_y = np.std(y)\n",
        "B1_c = corr[1,1]*stdev_y/stdev_x\n",
        "print(B1_c)\n",
        "B0_c = mean_y - B1_c*mean_X\n",
        "print(B0_c)\n",
        "y2 = B0_c + B1_c*X"
      ],
      "execution_count": null,
      "outputs": []
    },
    {
      "cell_type": "code",
      "metadata": {
        "id": "1XGoEYs6MvZU"
      },
      "source": [
        "# visualizaing the calculated results\n",
        "viz_train = plt\n",
        "viz_train.scatter(X, y, color=\"red\")\n",
        "viz_train.plot(X,y2, color='blue')\n",
        "viz_train.title('Salary vs Experience')\n",
        "viz_train.xlabel('Year of Experience')\n",
        "viz_train.ylabel('Salary')\n",
        "viz_train.show()"
      ],
      "execution_count": null,
      "outputs": []
    },
    {
      "cell_type": "code",
      "metadata": {
        "id": "6NdptllNM70c"
      },
      "source": [
        ""
      ],
      "execution_count": null,
      "outputs": []
    }
  ]
}