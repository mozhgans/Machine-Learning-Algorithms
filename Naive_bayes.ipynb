{
  "nbformat": 4,
  "nbformat_minor": 0,
  "metadata": {
    "colab": {
      "name": "Naive bayes.ipynb",
      "provenance": [],
      "authorship_tag": "ABX9TyPv0/srHLbj7I/iJZ3bkskI",
      "include_colab_link": true
    },
    "kernelspec": {
      "name": "python3",
      "display_name": "Python 3"
    }
  },
  "cells": [
    {
      "cell_type": "markdown",
      "metadata": {
        "id": "view-in-github",
        "colab_type": "text"
      },
      "source": [
        "<a href=\"https://colab.research.google.com/github/mozhgans/Machine-Learning-Algorithms/blob/main/Naive_bayes.ipynb\" target=\"_parent\"><img src=\"https://colab.research.google.com/assets/colab-badge.svg\" alt=\"Open In Colab\"/></a>"
      ]
    },
    {
      "cell_type": "markdown",
      "metadata": {
        "id": "EhAHU1v9LtlE"
      },
      "source": [
        "\n",
        "# Chapters 19,20 and 21: Naive Bayes\n",
        "# A good example from https://www.geeksforgeeks.org/naive-bayes-classifiers/"
      ]
    },
    {
      "cell_type": "code",
      "metadata": {
        "id": "L0rG1qjoLvyI"
      },
      "source": [
        "\n",
        "# import libraries\n",
        "from sklearn.datasets import load_iris\n",
        "import numpy as np\n",
        "import pandas as pd\n",
        "import matplotlib.pyplot as plt\n",
        "%matplotlib inline"
      ],
      "execution_count": 1,
      "outputs": []
    },
    {
      "cell_type": "code",
      "metadata": {
        "id": "-G5wnA62L1cJ"
      },
      "source": [
        "iris = load_iris()\n",
        "X = iris.data\n",
        "y = iris.target"
      ],
      "execution_count": 2,
      "outputs": []
    },
    {
      "cell_type": "code",
      "metadata": {
        "colab": {
          "base_uri": "https://localhost:8080/"
        },
        "id": "cyzGZf6gL5LC",
        "outputId": "169bda2b-bb21-4c34-8851-50f0fc6fd6db"
      },
      "source": [
        "# splitting X and y into training and testing sets\n",
        "from sklearn.model_selection import train_test_split\n",
        "X_train, X_test, y_train, y_test = train_test_split(X,y,test_size=0.4, random_state=1)\n",
        "\n",
        "# training the model on training set\n",
        "from sklearn.naive_bayes import GaussianNB\n",
        "gnb = GaussianNB()\n",
        "gnb.fit(X_train,y_train)"
      ],
      "execution_count": 3,
      "outputs": [
        {
          "output_type": "execute_result",
          "data": {
            "text/plain": [
              "GaussianNB(priors=None, var_smoothing=1e-09)"
            ]
          },
          "metadata": {
            "tags": []
          },
          "execution_count": 3
        }
      ]
    },
    {
      "cell_type": "code",
      "metadata": {
        "id": "pMxOCAKPL5Pa"
      },
      "source": [
        "# making predictions on the testing set\n",
        "y_pred = gnb.predict(X_test)"
      ],
      "execution_count": 4,
      "outputs": []
    },
    {
      "cell_type": "code",
      "metadata": {
        "colab": {
          "base_uri": "https://localhost:8080/"
        },
        "id": "8GA165X2L5TS",
        "outputId": "aa045039-ec2f-4850-c76f-16b9d9973cdc"
      },
      "source": [
        "\n",
        "# comparing actual response values (y_test) with predicted response values\n",
        "from sklearn import metrics\n",
        "print(\"Gaussian Naive Bayes model accuracy (in %):\", metrics.accuracy_score(y_test,y_pred)*100)"
      ],
      "execution_count": 5,
      "outputs": [
        {
          "output_type": "stream",
          "text": [
            "Gaussian Naive Bayes model accuracy (in %): 95.0\n"
          ],
          "name": "stdout"
        }
      ]
    }
  ]
}