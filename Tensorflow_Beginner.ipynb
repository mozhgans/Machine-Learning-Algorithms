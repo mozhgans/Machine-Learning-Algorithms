{
  "nbformat": 4,
  "nbformat_minor": 0,
  "metadata": {
    "colab": {
      "name": "Tensorflow-Beginner.ipynb",
      "provenance": [],
      "authorship_tag": "ABX9TyN2fNB6vrybmnBQKYzs5aMk",
      "include_colab_link": true
    },
    "kernelspec": {
      "name": "python3",
      "display_name": "Python 3"
    },
    "language_info": {
      "name": "python"
    }
  },
  "cells": [
    {
      "cell_type": "markdown",
      "metadata": {
        "id": "view-in-github",
        "colab_type": "text"
      },
      "source": [
        "<a href=\"https://colab.research.google.com/github/mozhgans/Machine-Learning-Algorithms/blob/main/Tensorflow_Beginner.ipynb\" target=\"_parent\"><img src=\"https://colab.research.google.com/assets/colab-badge.svg\" alt=\"Open In Colab\"/></a>"
      ]
    },
    {
      "cell_type": "markdown",
      "source": [
        "This short introduction uses Keras to:\n",
        "\n",
        "Load a prebuilt dataset.\n",
        "\n",
        "Build a neural network machine learning model that classifies images.\n",
        "\n",
        "Train this neural network.\n",
        "\n",
        "Evaluate the accuracy of the model."
      ],
      "metadata": {
        "id": "8j_3E1JMx9F2"
      }
    },
    {
      "cell_type": "markdown",
      "source": [
        "Set up TensorFlow\n",
        "\n",
        "Import TensorFlow into your program to get started:"
      ],
      "metadata": {
        "id": "9hpIWAluyPE0"
      }
    },
    {
      "cell_type": "code",
      "execution_count": null,
      "metadata": {
        "id": "Vow4EWNxx5HL",
        "colab": {
          "base_uri": "https://localhost:8080/"
        },
        "outputId": "7279f043-6ed3-4d78-857c-eec162614f87"
      },
      "outputs": [
        {
          "output_type": "stream",
          "name": "stdout",
          "text": [
            "tensorflow version: 2.7.0\n"
          ]
        }
      ],
      "source": [
        "import tensorflow as tf\n",
        "print(\"tensorflow version:\", tf.__version__)"
      ]
    },
    {
      "cell_type": "markdown",
      "source": [
        "Load a dataset:\n",
        "\n",
        "Load and prepare the MNIST dataset. Convert the sample data from integers to floating-point numbers:"
      ],
      "metadata": {
        "id": "gZYYbdKIywiE"
      }
    },
    {
      "cell_type": "code",
      "source": [
        "mnist = tf.keras.datasets.mnist\n",
        "mnist"
      ],
      "metadata": {
        "colab": {
          "base_uri": "https://localhost:8080/"
        },
        "id": "1JMxVYNayqMz",
        "outputId": "60c6789e-4b7a-4e72-a3c1-ae75546c962c"
      },
      "execution_count": null,
      "outputs": [
        {
          "output_type": "execute_result",
          "data": {
            "text/plain": [
              "<module 'keras.api._v2.keras.datasets.mnist' from '/usr/local/lib/python3.7/dist-packages/keras/api/_v2/keras/datasets/mnist/__init__.py'>"
            ]
          },
          "metadata": {},
          "execution_count": 4
        }
      ]
    },
    {
      "cell_type": "code",
      "source": [
        "(x_train, y_train), (x_test, y_test) = mnist.load_data()\n",
        "x_train, x_test = x_train / 255.0, x_test / 255.0"
      ],
      "metadata": {
        "colab": {
          "base_uri": "https://localhost:8080/"
        },
        "id": "xzEhz7fjy63b",
        "outputId": "6a064be7-2416-4e1e-afa0-e4f0964a435d"
      },
      "execution_count": null,
      "outputs": [
        {
          "output_type": "stream",
          "name": "stdout",
          "text": [
            "Downloading data from https://storage.googleapis.com/tensorflow/tf-keras-datasets/mnist.npz\n",
            "11493376/11490434 [==============================] - 0s 0us/step\n",
            "11501568/11490434 [==============================] - 0s 0us/step\n"
          ]
        }
      ]
    },
    {
      "cell_type": "markdown",
      "source": [
        "Build a machine learning model:\n",
        "\n",
        "Build a tf.keras.Sequential model by stacking layers."
      ],
      "metadata": {
        "id": "I6D4OQUPzK_t"
      }
    },
    {
      "cell_type": "markdown",
      "source": [
        "When to use a Sequential model:\n",
        "\n",
        "A Sequential model is appropriate for a plain stack of layers where each layer has exactly one input tensor and one output tensor.\n",
        "\n",
        "https://www.tensorflow.org/guide/keras/sequential_model"
      ],
      "metadata": {
        "id": "jy1apave2QVc"
      }
    },
    {
      "cell_type": "code",
      "source": [
        "model = tf.keras.models.Sequential([\n",
        "  tf.keras.layers.Flatten(input_shape=(28, 28)),\n",
        "  tf.keras.layers.Dense(128, activation='relu'),\n",
        "  tf.keras.layers.Dropout(0.2),\n",
        "  tf.keras.layers.Dense(10)\n",
        "])"
      ],
      "metadata": {
        "id": "bUeCn48Ly-Ol"
      },
      "execution_count": null,
      "outputs": []
    },
    {
      "cell_type": "markdown",
      "source": [
        "For each example, the model returns a vector of logits or log-odds scores, one for each class."
      ],
      "metadata": {
        "id": "Zs_WWooGzTOI"
      }
    },
    {
      "cell_type": "code",
      "source": [
        "predictions = model(x_train[:1]).numpy()\n",
        "predictions"
      ],
      "metadata": {
        "colab": {
          "base_uri": "https://localhost:8080/"
        },
        "id": "-RN5ym6fzQeg",
        "outputId": "aa127857-686e-4492-a605-0b4d9028f017"
      },
      "execution_count": null,
      "outputs": [
        {
          "output_type": "execute_result",
          "data": {
            "text/plain": [
              "array([[-0.13848424,  0.07517522,  0.00898615,  0.70145357,  0.07138107,\n",
              "         0.08409797,  0.12883909,  0.289892  , -0.32842115,  0.45452484]],\n",
              "      dtype=float32)"
            ]
          },
          "metadata": {},
          "execution_count": 7
        }
      ]
    },
    {
      "cell_type": "markdown",
      "source": [
        "The tf.nn.softmax function converts these logits to probabilities for each class:"
      ],
      "metadata": {
        "id": "l_GOQM-yzZ-l"
      }
    },
    {
      "cell_type": "code",
      "source": [
        "tf.nn.softmax(predictions).numpy()"
      ],
      "metadata": {
        "colab": {
          "base_uri": "https://localhost:8080/"
        },
        "id": "w7snIewOzXdZ",
        "outputId": "695af324-d480-4ea0-a2e9-5c9549896ae0"
      },
      "execution_count": null,
      "outputs": [
        {
          "output_type": "execute_result",
          "data": {
            "text/plain": [
              "array([[0.07313258, 0.09055283, 0.08475327, 0.16939136, 0.09020991,\n",
              "        0.09136443, 0.095545  , 0.11224121, 0.06048147, 0.13232791]],\n",
              "      dtype=float32)"
            ]
          },
          "metadata": {},
          "execution_count": 8
        }
      ]
    },
    {
      "cell_type": "markdown",
      "source": [
        "Note: It is possible to bake the tf.nn.softmax function into the activation function for the last layer of the network. While this can make the model output more directly interpretable, this approach is discouraged as it's impossible to provide an exact and numerically stable loss calculation for all models when using a softmax output."
      ],
      "metadata": {
        "id": "kYYxXTQ8zjY9"
      }
    },
    {
      "cell_type": "markdown",
      "source": [
        "Define a loss function for training using losses.SparseCategoricalCrossentropy, which takes a vector of logits and a True index and returns a scalar loss for each example."
      ],
      "metadata": {
        "id": "PTDdb318zkia"
      }
    },
    {
      "cell_type": "code",
      "source": [
        "loss_fn = tf.keras.losses.SparseCategoricalCrossentropy(from_logits=True)"
      ],
      "metadata": {
        "id": "suJ9WHvazock"
      },
      "execution_count": null,
      "outputs": []
    },
    {
      "cell_type": "markdown",
      "source": [
        "This loss is equal to the negative log probability of the true class: The loss is zero if the model is sure of the correct class.\n",
        "This untrained model gives probabilities close to random (1/10 for each class), so the initial loss should be close to -tf.math.log(1/10) ~= 2.3."
      ],
      "metadata": {
        "id": "yySaAlRYzvPN"
      }
    },
    {
      "cell_type": "code",
      "source": [
        "loss_fn(y_train[:1], predictions).numpy()"
      ],
      "metadata": {
        "colab": {
          "base_uri": "https://localhost:8080/"
        },
        "id": "D9H5NC7Zzr7S",
        "outputId": "bfa5c497-8fef-40e9-d5fe-f88304d0d33c"
      },
      "execution_count": null,
      "outputs": [
        {
          "output_type": "execute_result",
          "data": {
            "text/plain": [
              "2.392899"
            ]
          },
          "metadata": {},
          "execution_count": 10
        }
      ]
    },
    {
      "cell_type": "markdown",
      "source": [
        "Before you start training, configure and compile the model using Keras Model.compile. Set the optimizer class to adam, set the loss to the loss_fn function you defined earlier, and specify a metric to be evaluated for the model by setting the metrics parameter to accuracy."
      ],
      "metadata": {
        "id": "IoRZb8DHz1F2"
      }
    },
    {
      "cell_type": "code",
      "source": [
        "model.compile(optimizer='adam',\n",
        "              loss=loss_fn,\n",
        "              metrics=['accuracy'])"
      ],
      "metadata": {
        "id": "8BSxC7ZEz2WD"
      },
      "execution_count": null,
      "outputs": []
    },
    {
      "cell_type": "markdown",
      "source": [
        "Train and evaluate your model:\n",
        "\n",
        "Use the Model.fit method to adjust your model parameters and minimize the loss:"
      ],
      "metadata": {
        "id": "4CKXnfDMz79M"
      }
    },
    {
      "cell_type": "code",
      "source": [
        "model.fit(x_train, y_train, epochs=5)"
      ],
      "metadata": {
        "colab": {
          "base_uri": "https://localhost:8080/"
        },
        "id": "siVt2uRqz5oQ",
        "outputId": "6dd617ea-59b4-4c34-9d71-93bce3789983"
      },
      "execution_count": null,
      "outputs": [
        {
          "output_type": "stream",
          "name": "stdout",
          "text": [
            "Epoch 1/5\n",
            "1875/1875 [==============================] - 5s 2ms/step - loss: 0.2956 - accuracy: 0.9139\n",
            "Epoch 2/5\n",
            "1875/1875 [==============================] - 4s 2ms/step - loss: 0.1427 - accuracy: 0.9571\n",
            "Epoch 3/5\n",
            "1875/1875 [==============================] - 4s 2ms/step - loss: 0.1073 - accuracy: 0.9675\n",
            "Epoch 4/5\n",
            "1875/1875 [==============================] - 4s 2ms/step - loss: 0.0866 - accuracy: 0.9731\n",
            "Epoch 5/5\n",
            "1875/1875 [==============================] - 4s 2ms/step - loss: 0.0739 - accuracy: 0.9765\n"
          ]
        },
        {
          "output_type": "execute_result",
          "data": {
            "text/plain": [
              "<keras.callbacks.History at 0x7f8127ad19d0>"
            ]
          },
          "metadata": {},
          "execution_count": 12
        }
      ]
    },
    {
      "cell_type": "markdown",
      "source": [
        "The Model.evaluate method checks the models performance, usually on a \"Validation-set\" or \"Test-set\"."
      ],
      "metadata": {
        "id": "7-1lZk5m0Ej9"
      }
    },
    {
      "cell_type": "code",
      "source": [
        "model.evaluate(x_test,  y_test, verbose=2)"
      ],
      "metadata": {
        "colab": {
          "base_uri": "https://localhost:8080/"
        },
        "id": "XCEbCBOJ0FYK",
        "outputId": "ebd5dfa6-d59b-4eec-e80c-cc829fcf5d7c"
      },
      "execution_count": null,
      "outputs": [
        {
          "output_type": "stream",
          "name": "stdout",
          "text": [
            "313/313 - 0s - loss: 0.0728 - accuracy: 0.9764 - 498ms/epoch - 2ms/step\n"
          ]
        },
        {
          "output_type": "execute_result",
          "data": {
            "text/plain": [
              "[0.07283315062522888, 0.9764000177383423]"
            ]
          },
          "metadata": {},
          "execution_count": 13
        }
      ]
    },
    {
      "cell_type": "markdown",
      "source": [
        "The image classifier is now trained to ~98% accuracy on this dataset. To learn more, read the TensorFlow tutorials."
      ],
      "metadata": {
        "id": "jTMh0lWB0KPC"
      }
    },
    {
      "cell_type": "markdown",
      "source": [
        "If you want your model to return a probability, you can wrap the trained model, and attach the softmax to it:"
      ],
      "metadata": {
        "id": "Y51Omui50LMM"
      }
    },
    {
      "cell_type": "code",
      "source": [
        "probability_model = tf.keras.Sequential([\n",
        "  model,\n",
        "  tf.keras.layers.Softmax()\n",
        "])"
      ],
      "metadata": {
        "id": "c_nn21x10Nv7"
      },
      "execution_count": null,
      "outputs": []
    },
    {
      "cell_type": "code",
      "source": [
        "probability_model(x_test[:5])"
      ],
      "metadata": {
        "colab": {
          "base_uri": "https://localhost:8080/"
        },
        "id": "koZe9lRz0QdX",
        "outputId": "67fa5500-2876-449d-c594-6f9dfd0da3b0"
      },
      "execution_count": null,
      "outputs": [
        {
          "output_type": "execute_result",
          "data": {
            "text/plain": [
              "<tf.Tensor: shape=(5, 10), dtype=float32, numpy=\n",
              "array([[3.26454324e-06, 5.99432681e-08, 4.63232618e-06, 9.51350012e-05,\n",
              "        3.00897363e-11, 1.65395377e-07, 5.22938789e-13, 9.99870539e-01,\n",
              "        1.33047424e-05, 1.29708815e-05],\n",
              "       [2.92222154e-07, 1.16908423e-05, 9.99883652e-01, 1.01976395e-04,\n",
              "        5.77697356e-18, 1.10918677e-06, 4.44721806e-08, 8.94955442e-13,\n",
              "        1.36078324e-06, 1.23418940e-12],\n",
              "       [1.62418416e-07, 9.99318361e-01, 1.15955072e-05, 9.65064555e-06,\n",
              "        1.01069827e-05, 3.41020404e-06, 6.15419958e-06, 5.39682340e-04,\n",
              "        1.00741447e-04, 1.71555911e-07],\n",
              "       [9.99918938e-01, 2.95898617e-09, 7.92908759e-05, 3.24559366e-08,\n",
              "        2.06955830e-09, 2.72191913e-09, 1.12705675e-06, 2.59299441e-07,\n",
              "        9.41596356e-10, 3.51951428e-07],\n",
              "       [2.87269504e-05, 2.00488270e-09, 9.11606840e-05, 1.31878878e-07,\n",
              "        9.91838634e-01, 1.78377675e-07, 2.59946842e-06, 3.05520440e-03,\n",
              "        1.63258039e-06, 4.98180836e-03]], dtype=float32)>"
            ]
          },
          "metadata": {},
          "execution_count": 15
        }
      ]
    },
    {
      "cell_type": "markdown",
      "source": [
        "Conclusion:\n",
        "\n",
        "Congratulations! You have trained a machine learning model using a prebuilt dataset using the Keras API.\n",
        "For more examples of using Keras, check out the tutorials. To learn more about building models with Keras, read the guides. If you want learn more about loading and preparing data, see the tutorials on image data loading or CSV data loading."
      ],
      "metadata": {
        "id": "cPkfrmDX0VzQ"
      }
    },
    {
      "cell_type": "markdown",
      "source": [
        ""
      ],
      "metadata": {
        "id": "FWSa5HHy0X1_"
      }
    }
  ]
}